{
 "cells": [
  {
   "cell_type": "code",
   "execution_count": 1,
   "metadata": {
    "scrolled": false
   },
   "outputs": [
    {
     "data": {
      "text/html": [
       "<div>\n",
       "<style scoped>\n",
       "    .dataframe tbody tr th:only-of-type {\n",
       "        vertical-align: middle;\n",
       "    }\n",
       "\n",
       "    .dataframe tbody tr th {\n",
       "        vertical-align: top;\n",
       "    }\n",
       "\n",
       "    .dataframe thead th {\n",
       "        text-align: right;\n",
       "    }\n",
       "</style>\n",
       "<table border=\"1\" class=\"dataframe\">\n",
       "  <thead>\n",
       "    <tr style=\"text-align: right;\">\n",
       "      <th></th>\n",
       "      <th>Unix Timestamp</th>\n",
       "      <th>Date</th>\n",
       "      <th>Symbol</th>\n",
       "      <th>Open</th>\n",
       "      <th>High</th>\n",
       "      <th>Low</th>\n",
       "      <th>Close</th>\n",
       "      <th>Volume</th>\n",
       "    </tr>\n",
       "  </thead>\n",
       "  <tbody>\n",
       "    <tr>\n",
       "      <th>3</th>\n",
       "      <td>1.56867E+12</td>\n",
       "      <td>9/16/2019 23:00</td>\n",
       "      <td>BTCUSD</td>\n",
       "      <td>10304.78</td>\n",
       "      <td>10304.78</td>\n",
       "      <td>10241.99</td>\n",
       "      <td>10271.26</td>\n",
       "      <td>24.50273959</td>\n",
       "    </tr>\n",
       "    <tr>\n",
       "      <th>4</th>\n",
       "      <td>1.56867E+12</td>\n",
       "      <td>9/16/2019 22:00</td>\n",
       "      <td>BTCUSD</td>\n",
       "      <td>10302.9</td>\n",
       "      <td>10325.01</td>\n",
       "      <td>10290.61</td>\n",
       "      <td>10304.78</td>\n",
       "      <td>35.26296065</td>\n",
       "    </tr>\n",
       "    <tr>\n",
       "      <th>5</th>\n",
       "      <td>1.56867E+12</td>\n",
       "      <td>9/16/2019 21:00</td>\n",
       "      <td>BTCUSD</td>\n",
       "      <td>10214.55</td>\n",
       "      <td>10351.86</td>\n",
       "      <td>10214.55</td>\n",
       "      <td>10302.9</td>\n",
       "      <td>179.8320635</td>\n",
       "    </tr>\n",
       "    <tr>\n",
       "      <th>6</th>\n",
       "      <td>1.56866E+12</td>\n",
       "      <td>9/16/2019 20:00</td>\n",
       "      <td>BTCUSD</td>\n",
       "      <td>10130.01</td>\n",
       "      <td>10217</td>\n",
       "      <td>10128.71</td>\n",
       "      <td>10214.55</td>\n",
       "      <td>43.67212722</td>\n",
       "    </tr>\n",
       "    <tr>\n",
       "      <th>7</th>\n",
       "      <td>1.56866E+12</td>\n",
       "      <td>9/16/2019 19:00</td>\n",
       "      <td>BTCUSD</td>\n",
       "      <td>10128.99</td>\n",
       "      <td>10140.32</td>\n",
       "      <td>10128.71</td>\n",
       "      <td>10130.01</td>\n",
       "      <td>47.03460152</td>\n",
       "    </tr>\n",
       "  </tbody>\n",
       "</table>\n",
       "</div>"
      ],
      "text/plain": [
       "  Unix Timestamp             Date  Symbol      Open      High       Low  \\\n",
       "3    1.56867E+12  9/16/2019 23:00  BTCUSD  10304.78  10304.78  10241.99   \n",
       "4    1.56867E+12  9/16/2019 22:00  BTCUSD   10302.9  10325.01  10290.61   \n",
       "5    1.56867E+12  9/16/2019 21:00  BTCUSD  10214.55  10351.86  10214.55   \n",
       "6    1.56866E+12  9/16/2019 20:00  BTCUSD  10130.01     10217  10128.71   \n",
       "7    1.56866E+12  9/16/2019 19:00  BTCUSD  10128.99  10140.32  10128.71   \n",
       "\n",
       "      Close       Volume  \n",
       "3  10271.26  24.50273959  \n",
       "4  10304.78  35.26296065  \n",
       "5   10302.9  179.8320635  \n",
       "6  10214.55  43.67212722  \n",
       "7  10130.01  47.03460152  "
      ]
     },
     "execution_count": 1,
     "metadata": {},
     "output_type": "execute_result"
    }
   ],
   "source": [
    "import pandas as pd\n",
    "\n",
    "headers = ['Unix Timestamp','Date','Symbol','Open','High','Low','Close','Volume']\n",
    "data_BTUSD = pd.read_csv('../Files/gemini_BTCUSD_1hr.csv',names=headers)\n",
    "data_BTUSD=data_BTUSD.drop([0,1,2])\n",
    "data_BTUSD.head()"
   ]
  },
  {
   "cell_type": "code",
   "execution_count": 2,
   "metadata": {
    "scrolled": false
   },
   "outputs": [
    {
     "data": {
      "text/html": [
       "<div>\n",
       "<style scoped>\n",
       "    .dataframe tbody tr th:only-of-type {\n",
       "        vertical-align: middle;\n",
       "    }\n",
       "\n",
       "    .dataframe tbody tr th {\n",
       "        vertical-align: top;\n",
       "    }\n",
       "\n",
       "    .dataframe thead th {\n",
       "        text-align: right;\n",
       "    }\n",
       "</style>\n",
       "<table border=\"1\" class=\"dataframe\">\n",
       "  <thead>\n",
       "    <tr style=\"text-align: right;\">\n",
       "      <th></th>\n",
       "      <th>Unix Timestamp</th>\n",
       "      <th>Date</th>\n",
       "      <th>Symbol</th>\n",
       "      <th>Open</th>\n",
       "      <th>High</th>\n",
       "      <th>Low</th>\n",
       "      <th>Close</th>\n",
       "      <th>Volume</th>\n",
       "    </tr>\n",
       "  </thead>\n",
       "  <tbody>\n",
       "    <tr>\n",
       "      <th>3</th>\n",
       "      <td>1.56867E+12</td>\n",
       "      <td>2019-09-16 23:00:00</td>\n",
       "      <td>BTCUSD</td>\n",
       "      <td>10304.78</td>\n",
       "      <td>10304.78</td>\n",
       "      <td>10241.99</td>\n",
       "      <td>10271.26</td>\n",
       "      <td>24.50273959</td>\n",
       "    </tr>\n",
       "    <tr>\n",
       "      <th>4</th>\n",
       "      <td>1.56867E+12</td>\n",
       "      <td>2019-09-16 22:00:00</td>\n",
       "      <td>BTCUSD</td>\n",
       "      <td>10302.9</td>\n",
       "      <td>10325.01</td>\n",
       "      <td>10290.61</td>\n",
       "      <td>10304.78</td>\n",
       "      <td>35.26296065</td>\n",
       "    </tr>\n",
       "    <tr>\n",
       "      <th>5</th>\n",
       "      <td>1.56867E+12</td>\n",
       "      <td>2019-09-16 21:00:00</td>\n",
       "      <td>BTCUSD</td>\n",
       "      <td>10214.55</td>\n",
       "      <td>10351.86</td>\n",
       "      <td>10214.55</td>\n",
       "      <td>10302.9</td>\n",
       "      <td>179.8320635</td>\n",
       "    </tr>\n",
       "    <tr>\n",
       "      <th>6</th>\n",
       "      <td>1.56866E+12</td>\n",
       "      <td>2019-09-16 20:00:00</td>\n",
       "      <td>BTCUSD</td>\n",
       "      <td>10130.01</td>\n",
       "      <td>10217</td>\n",
       "      <td>10128.71</td>\n",
       "      <td>10214.55</td>\n",
       "      <td>43.67212722</td>\n",
       "    </tr>\n",
       "    <tr>\n",
       "      <th>7</th>\n",
       "      <td>1.56866E+12</td>\n",
       "      <td>2019-09-16 19:00:00</td>\n",
       "      <td>BTCUSD</td>\n",
       "      <td>10128.99</td>\n",
       "      <td>10140.32</td>\n",
       "      <td>10128.71</td>\n",
       "      <td>10130.01</td>\n",
       "      <td>47.03460152</td>\n",
       "    </tr>\n",
       "  </tbody>\n",
       "</table>\n",
       "</div>"
      ],
      "text/plain": [
       "  Unix Timestamp                Date  Symbol      Open      High       Low  \\\n",
       "3    1.56867E+12 2019-09-16 23:00:00  BTCUSD  10304.78  10304.78  10241.99   \n",
       "4    1.56867E+12 2019-09-16 22:00:00  BTCUSD   10302.9  10325.01  10290.61   \n",
       "5    1.56867E+12 2019-09-16 21:00:00  BTCUSD  10214.55  10351.86  10214.55   \n",
       "6    1.56866E+12 2019-09-16 20:00:00  BTCUSD  10130.01     10217  10128.71   \n",
       "7    1.56866E+12 2019-09-16 19:00:00  BTCUSD  10128.99  10140.32  10128.71   \n",
       "\n",
       "      Close       Volume  \n",
       "3  10271.26  24.50273959  \n",
       "4  10304.78  35.26296065  \n",
       "5   10302.9  179.8320635  \n",
       "6  10214.55  43.67212722  \n",
       "7  10130.01  47.03460152  "
      ]
     },
     "execution_count": 2,
     "metadata": {},
     "output_type": "execute_result"
    }
   ],
   "source": [
    "data_BTUSD['Date']=pd.to_datetime(data_BTUSD['Date'],dayfirst=True)\n",
    "data_BTUSD.head()"
   ]
  },
  {
   "cell_type": "code",
   "execution_count": 3,
   "metadata": {},
   "outputs": [
    {
     "data": {
      "image/png": "[encoded data removed]",
      "text/plain": [
       "<Figure size 432x288 with 1 Axes>"
      ]
     },
     "metadata": {
      "needs_background": "light"
     },
     "output_type": "display_data"
    },
    {
     "name": "stdout",
     "output_type": "stream",
     "text": [
      "Wall time: 656 ms\n"
     ]
    }
   ],
   "source": [
    "%%time\n",
    "import matplotlib.pyplot as plt\n",
    "%matplotlib inline\n",
    "\n",
    "plt.plot(pd.to_numeric(data_BTUSD['Close']))\n",
    "# plt.xticks(rotation=45)\n",
    "# plt.xlabel('Hour')\n",
    "# plt.ylabel('Close price')\n",
    "plt.show()"
   ]
  },
  {
   "cell_type": "code",
   "execution_count": 4,
   "metadata": {},
   "outputs": [],
   "source": [
    "from statsmodels.graphics.tsaplots import plot_acf"
   ]
  },
  {
   "cell_type": "code",
   "execution_count": 5,
   "metadata": {},
   "outputs": [
    {
     "data": {
      "image/png": "[encoded data removed]",
      "text/plain": [
       "<Figure size 432x288 with 1 Axes>"
      ]
     },
     "metadata": {
      "needs_background": "light"
     },
     "output_type": "display_data"
    }
   ],
   "source": [
    "import matplotlib.pyplot as plt\n",
    "%matplotlib inline\n",
    "plot_acf(pd.to_numeric(data_BTUSD['Close']))\n",
    "plt.show()"
   ]
  },
  {
   "cell_type": "code",
   "execution_count": 6,
   "metadata": {},
   "outputs": [
    {
     "data": {
      "image/png": "[encoded data removed]",
      "text/plain": [
       "<Figure size 432x288 with 1 Axes>"
      ]
     },
     "metadata": {
      "needs_background": "light"
     },
     "output_type": "display_data"
    }
   ],
   "source": [
    "plot_acf(pd.to_numeric(data_BTUSD['Close']),lags=5000)\n",
    "plt.show()"
   ]
  },
  {
   "cell_type": "markdown",
   "metadata": {},
   "source": [
    "## ADF Test"
   ]
  },
  {
   "cell_type": "markdown",
   "metadata": {},
   "source": [
    "To determine if a time series is stationary or not, we will use the ADF test which is a type of unit root test. Unit roots are a cause for non-stationarity, the ADF test will test if unit root is present.\n",
    "\n",
    "The Null and Alternate hypothesis of the Augmented Dickey-Fuller test are defined as follows:\n",
    "\n",
    "- Null Hypothesis states there is presence of a unit root.\n",
    "- Alternate Hypothesis states there is no unit root. In other words, Stationarity exists.\n",
    "\n",
    "Here, the Akaike Information Criterion (AIC) is used to determine the lag.\n",
    "\n",
    "The adfuller function returns a tuple of statistics from the ADF test such as the Test Statistic, P -Value, Number of Lags Used, Number of Observations used for the ADF regression and a dictionary of Critical Values.\n",
    "\n",
    "If the P-Value is less than the Significance Level defined, we reject the Null Hypothesis that the time series contains a unit root. In other words, by rejecting the Null hypothesis, we can conclude that the time series is stationary."
   ]
  },
  {
   "cell_type": "code",
   "execution_count": 7,
   "metadata": {},
   "outputs": [],
   "source": [
    "testdata=list(pd.to_numeric(data_BTUSD['Close']))"
   ]
  },
  {
   "cell_type": "code",
   "execution_count": 8,
   "metadata": {},
   "outputs": [],
   "source": [
    "from statsmodels.tsa.stattools import adfuller\n",
    "def adf_test(ts):\n",
    "    adftest = adfuller(ts, autolag='AIC')\n",
    "    adf_res = pd.Series(adftest[0:4], index=['Test Statistic','p-value','Lags Used','Number of Observations Used'])\n",
    "\n",
    "    for key, value in adftest[4].items():\n",
    "        adf_res['Critical Value (%s)' % key] = value\n",
    "    return adf_res"
   ]
  },
  {
   "cell_type": "code",
   "execution_count": 9,
   "metadata": {},
   "outputs": [
    {
     "data": {
      "text/plain": [
       "Test Statistic                    -1.684763\n",
       "p-value                            0.438980\n",
       "Lags Used                         51.000000\n",
       "Number of Observations Used    34495.000000\n",
       "Critical Value (1%)               -3.430540\n",
       "Critical Value (5%)               -2.861624\n",
       "Critical Value (10%)              -2.566815\n",
       "dtype: float64"
      ]
     },
     "execution_count": 9,
     "metadata": {},
     "output_type": "execute_result"
    }
   ],
   "source": [
    "adf_test(testdata)"
   ]
  },
  {
   "cell_type": "code",
   "execution_count": null,
   "metadata": {},
   "outputs": [],
   "source": []
  }
 ],
 "metadata": {
  "kernelspec": {
   "display_name": "Python 3",
   "language": "python",
   "name": "python3"
  },
  "language_info": {
   "codemirror_mode": {
    "name": "ipython",
    "version": 3
   },
   "file_extension": ".py",
   "mimetype": "text/x-python",
   "name": "python",
   "nbconvert_exporter": "python",
   "pygments_lexer": "ipython3",
   "version": "3.7.3"
  }
 },
 "nbformat": 4,
 "nbformat_minor": 2
}
