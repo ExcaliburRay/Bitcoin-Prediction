{
 "cells": [
  {
   "cell_type": "markdown",
   "metadata": {
    "colab_type": "text",
    "id": "ndr6YQSgsZZy"
   },
   "source": [
    "# This is the code for the best classification model we've trained:\n",
    "\n",
    "*   LSTM mdoel with one hidden layer\n",
    "*   Three inputs: price, sentiment, percentage (price variation after 24 hours) \n",
    "*   We use TensorBoard to track and visualize the performance metrics such as loss and accuracy. We've commented out the codes for connecting with TensorBoard because they only work in **Google Colab** environment. If you are using **Jupyter**, here is the link for setting up TensorBoard: https://www.tensorflow.org/tensorboard/r2/tensorboard_in_notebooks\n",
    "\n",
    "\n",
    "\n",
    "\n",
    "\n",
    " \n"
   ]
  },
  {
   "cell_type": "code",
   "execution_count": 3,
   "metadata": {
    "colab": {
     "base_uri": "https://localhost:8080/",
     "height": 34
    },
    "colab_type": "code",
    "executionInfo": {
     "elapsed": 6789,
     "status": "ok",
     "timestamp": 1564721402844,
     "user": {
      "displayName": "Zichen Li",
      "photoUrl": "https://lh6.googleusercontent.com/-G9Y_cKgeVOc/AAAAAAAAAAI/AAAAAAAAADo/D8ud3av9gMo/s64/photo.jpg",
      "userId": "09393985127784237998"
     },
     "user_tz": -570
    },
    "id": "T_qrNK1vj-Lb",
    "outputId": "293a97ba-b791-4de1-a2ea-d0c921ce1d61"
   },
   "outputs": [],
   "source": [
    "import pandas as pd\n",
    "import numpy as np\n",
    "import keras\n",
    "from math import sqrt\n",
    "from numpy import concatenate\n",
    "from matplotlib import pyplot\n",
    "from datetime import datetime\n",
    "from sklearn.preprocessing import MinMaxScaler\n",
    "from sklearn.preprocessing import LabelEncoder\n",
    "from sklearn.metrics import mean_squared_error\n",
    "from keras.utils import to_categorical\n",
    "from keras.layers import Input, Embedding, LSTM, Dense\n",
    "from keras.models import Model\n",
    "from keras.models import Sequential\n",
    "from keras.layers import Dense\n",
    "from keras.layers import LSTM\n",
    "from keras.layers import GRU\n",
    "import plotly.offline as py\n",
    "import plotly.graph_objs as go\n",
    "import seaborn as sns\n",
    "%matplotlib inline"
   ]
  },
  {
   "cell_type": "markdown",
   "metadata": {
    "colab_type": "text",
    "id": "11CuOWufx-6t"
   },
   "source": [
    "# The following block of codes are for using TensorBoard in Google Colab"
   ]
  },
  {
   "cell_type": "code",
   "execution_count": 0,
   "metadata": {
    "colab": {
     "base_uri": "https://localhost:8080/",
     "height": 68
    },
    "colab_type": "code",
    "executionInfo": {
     "elapsed": 20186,
     "status": "ok",
     "timestamp": 1564721416836,
     "user": {
      "displayName": "Zichen Li",
      "photoUrl": "https://lh6.googleusercontent.com/-G9Y_cKgeVOc/AAAAAAAAAAI/AAAAAAAAADo/D8ud3av9gMo/s64/photo.jpg",
      "userId": "09393985127784237998"
     },
     "user_tz": -570
    },
    "id": "GaqN3s9GJg40",
    "outputId": "5c64e761-9aa6-45de-b593-2ba8c6d96fce"
   },
   "outputs": [
    {
     "name": "stdout",
     "output_type": "stream",
     "text": [
      "Wait for 8 seconds...\n",
      "TensorBoard link:\n",
      "https://1861ff8f.ngrok.io\n"
     ]
    }
   ],
   "source": [
    "#from tensorboardcolab import TensorBoardColab, TensorBoardColabCallback\n",
    "#py.init_notebook_mode(connected=True)\n",
    "#tbc=TensorBoardColab()"
   ]
  },
  {
   "cell_type": "markdown",
   "metadata": {
    "colab_type": "text",
    "id": "ixCgIsD3zrfX"
   },
   "source": [
    "# Preprocessing data input\n",
    "\n",
    "*   The original data file is called \"24hour_price_emotion_4label.csv\". pLease change the file path accordingly while reading the file.\n",
    "*   List item\n",
    "\n",
    "\n"
   ]
  },
  {
   "cell_type": "markdown",
   "metadata": {
    "colab_type": "text",
    "id": "gVLpyljZ0s2S"
   },
   "source": [
    "**Read the data file \"24hour_price_emotion_4label.csv\" :**"
   ]
  },
  {
   "cell_type": "code",
   "execution_count": 4,
   "metadata": {
    "colab": {
     "base_uri": "https://localhost:8080/",
     "height": 411
    },
    "colab_type": "code",
    "executionInfo": {
     "elapsed": 20795,
     "status": "ok",
     "timestamp": 1564721417497,
     "user": {
      "displayName": "Zichen Li",
      "photoUrl": "https://lh6.googleusercontent.com/-G9Y_cKgeVOc/AAAAAAAAAAI/AAAAAAAAADo/D8ud3av9gMo/s64/photo.jpg",
      "userId": "09393985127784237998"
     },
     "user_tz": -570
    },
    "id": "gs3Svr3-j-L5",
    "outputId": "52b287ac-831a-4acc-89c8-91465b5eee54"
   },
   "outputs": [
    {
     "data": {
      "text/html": [
       "<div>\n",
       "<style scoped>\n",
       "    .dataframe tbody tr th:only-of-type {\n",
       "        vertical-align: middle;\n",
       "    }\n",
       "\n",
       "    .dataframe tbody tr th {\n",
       "        vertical-align: top;\n",
       "    }\n",
       "\n",
       "    .dataframe thead th {\n",
       "        text-align: right;\n",
       "    }\n",
       "</style>\n",
       "<table border=\"1\" class=\"dataframe\">\n",
       "  <thead>\n",
       "    <tr style=\"text-align: right;\">\n",
       "      <th></th>\n",
       "      <th>Unnamed: 0</th>\n",
       "      <th>Unix Timestamp</th>\n",
       "      <th>Date</th>\n",
       "      <th>Symbol</th>\n",
       "      <th>Open</th>\n",
       "      <th>High</th>\n",
       "      <th>Low</th>\n",
       "      <th>Close</th>\n",
       "      <th>Volume</th>\n",
       "      <th>Average_Anger</th>\n",
       "      <th>...</th>\n",
       "      <th>Average_Sadness</th>\n",
       "      <th>Average_Fear</th>\n",
       "      <th>Average_Disgust</th>\n",
       "      <th>Maximum_Anger</th>\n",
       "      <th>Maximum_Joy</th>\n",
       "      <th>Maximum_Sadness</th>\n",
       "      <th>Maximum_Fear</th>\n",
       "      <th>Maximum_Disgust</th>\n",
       "      <th>Percentage</th>\n",
       "      <th>label</th>\n",
       "    </tr>\n",
       "  </thead>\n",
       "  <tbody>\n",
       "    <tr>\n",
       "      <th>0</th>\n",
       "      <td>31835</td>\n",
       "      <td>1.444309e+09</td>\n",
       "      <td>2015-10-08 13:00:00</td>\n",
       "      <td>BTCUSD</td>\n",
       "      <td>0.00</td>\n",
       "      <td>245.00</td>\n",
       "      <td>0.00</td>\n",
       "      <td>245.00</td>\n",
       "      <td>0.606654</td>\n",
       "      <td>0.0</td>\n",
       "      <td>...</td>\n",
       "      <td>0.0</td>\n",
       "      <td>0.0</td>\n",
       "      <td>0.0</td>\n",
       "      <td>0.0</td>\n",
       "      <td>0.0</td>\n",
       "      <td>0.0</td>\n",
       "      <td>0.0</td>\n",
       "      <td>0.0</td>\n",
       "      <td>-0.004082</td>\n",
       "      <td>2</td>\n",
       "    </tr>\n",
       "    <tr>\n",
       "      <th>1</th>\n",
       "      <td>31834</td>\n",
       "      <td>1.444313e+09</td>\n",
       "      <td>2015-10-08 14:00:00</td>\n",
       "      <td>BTCUSD</td>\n",
       "      <td>245.00</td>\n",
       "      <td>245.00</td>\n",
       "      <td>244.50</td>\n",
       "      <td>245.00</td>\n",
       "      <td>4.453649</td>\n",
       "      <td>0.0</td>\n",
       "      <td>...</td>\n",
       "      <td>0.0</td>\n",
       "      <td>0.0</td>\n",
       "      <td>0.0</td>\n",
       "      <td>0.0</td>\n",
       "      <td>0.0</td>\n",
       "      <td>0.0</td>\n",
       "      <td>0.0</td>\n",
       "      <td>0.0</td>\n",
       "      <td>-0.004082</td>\n",
       "      <td>2</td>\n",
       "    </tr>\n",
       "    <tr>\n",
       "      <th>2</th>\n",
       "      <td>31833</td>\n",
       "      <td>1.444316e+09</td>\n",
       "      <td>2015-10-08 15:00:00</td>\n",
       "      <td>BTCUSD</td>\n",
       "      <td>245.00</td>\n",
       "      <td>245.00</td>\n",
       "      <td>244.92</td>\n",
       "      <td>244.92</td>\n",
       "      <td>3.016926</td>\n",
       "      <td>0.0</td>\n",
       "      <td>...</td>\n",
       "      <td>0.0</td>\n",
       "      <td>0.0</td>\n",
       "      <td>0.0</td>\n",
       "      <td>0.0</td>\n",
       "      <td>0.0</td>\n",
       "      <td>0.0</td>\n",
       "      <td>0.0</td>\n",
       "      <td>0.0</td>\n",
       "      <td>-0.003756</td>\n",
       "      <td>2</td>\n",
       "    </tr>\n",
       "    <tr>\n",
       "      <th>3</th>\n",
       "      <td>31832</td>\n",
       "      <td>1.444320e+09</td>\n",
       "      <td>2015-10-08 16:00:00</td>\n",
       "      <td>BTCUSD</td>\n",
       "      <td>244.92</td>\n",
       "      <td>244.92</td>\n",
       "      <td>244.25</td>\n",
       "      <td>244.25</td>\n",
       "      <td>3.895252</td>\n",
       "      <td>0.0</td>\n",
       "      <td>...</td>\n",
       "      <td>0.0</td>\n",
       "      <td>0.0</td>\n",
       "      <td>0.0</td>\n",
       "      <td>0.0</td>\n",
       "      <td>0.0</td>\n",
       "      <td>0.0</td>\n",
       "      <td>0.0</td>\n",
       "      <td>0.0</td>\n",
       "      <td>-0.001024</td>\n",
       "      <td>2</td>\n",
       "    </tr>\n",
       "    <tr>\n",
       "      <th>4</th>\n",
       "      <td>31831</td>\n",
       "      <td>1.444324e+09</td>\n",
       "      <td>2015-10-08 17:00:00</td>\n",
       "      <td>BTCUSD</td>\n",
       "      <td>244.25</td>\n",
       "      <td>244.99</td>\n",
       "      <td>244.02</td>\n",
       "      <td>244.99</td>\n",
       "      <td>3.920632</td>\n",
       "      <td>0.0</td>\n",
       "      <td>...</td>\n",
       "      <td>0.0</td>\n",
       "      <td>0.0</td>\n",
       "      <td>0.0</td>\n",
       "      <td>0.0</td>\n",
       "      <td>0.0</td>\n",
       "      <td>0.0</td>\n",
       "      <td>0.0</td>\n",
       "      <td>0.0</td>\n",
       "      <td>-0.005266</td>\n",
       "      <td>2</td>\n",
       "    </tr>\n",
       "  </tbody>\n",
       "</table>\n",
       "<p>5 rows × 21 columns</p>\n",
       "</div>"
      ],
      "text/plain": [
       "   Unnamed: 0  Unix Timestamp                Date  Symbol    Open    High  \\\n",
       "0       31835    1.444309e+09 2015-10-08 13:00:00  BTCUSD    0.00  245.00   \n",
       "1       31834    1.444313e+09 2015-10-08 14:00:00  BTCUSD  245.00  245.00   \n",
       "2       31833    1.444316e+09 2015-10-08 15:00:00  BTCUSD  245.00  245.00   \n",
       "3       31832    1.444320e+09 2015-10-08 16:00:00  BTCUSD  244.92  244.92   \n",
       "4       31831    1.444324e+09 2015-10-08 17:00:00  BTCUSD  244.25  244.99   \n",
       "\n",
       "      Low   Close    Volume  Average_Anger  ...  Average_Sadness  \\\n",
       "0    0.00  245.00  0.606654            0.0  ...              0.0   \n",
       "1  244.50  245.00  4.453649            0.0  ...              0.0   \n",
       "2  244.92  244.92  3.016926            0.0  ...              0.0   \n",
       "3  244.25  244.25  3.895252            0.0  ...              0.0   \n",
       "4  244.02  244.99  3.920632            0.0  ...              0.0   \n",
       "\n",
       "   Average_Fear  Average_Disgust  Maximum_Anger  Maximum_Joy  Maximum_Sadness  \\\n",
       "0           0.0              0.0            0.0          0.0              0.0   \n",
       "1           0.0              0.0            0.0          0.0              0.0   \n",
       "2           0.0              0.0            0.0          0.0              0.0   \n",
       "3           0.0              0.0            0.0          0.0              0.0   \n",
       "4           0.0              0.0            0.0          0.0              0.0   \n",
       "\n",
       "   Maximum_Fear  Maximum_Disgust  Percentage  label  \n",
       "0           0.0              0.0   -0.004082      2  \n",
       "1           0.0              0.0   -0.004082      2  \n",
       "2           0.0              0.0   -0.003756      2  \n",
       "3           0.0              0.0   -0.001024      2  \n",
       "4           0.0              0.0   -0.005266      2  \n",
       "\n",
       "[5 rows x 21 columns]"
      ]
     },
     "execution_count": 4,
     "metadata": {},
     "output_type": "execute_result"
    }
   ],
   "source": [
    "data =  pd.read_csv ('../Files/24hour_price_emotion_4label.csv')\n",
    "data['Date']=pd.to_datetime(data['Date'])\n",
    "data = data.sort_values(['Date'], ascending=[True])\n",
    "data.head()"
   ]
  },
  {
   "cell_type": "markdown",
   "metadata": {
    "colab_type": "text",
    "id": "U9_IQZ_M1zd8"
   },
   "source": [
    "**Transform the data using MInMax Scaler :**"
   ]
  },
  {
   "cell_type": "code",
   "execution_count": 6,
   "metadata": {
    "colab": {},
    "colab_type": "code",
    "id": "sJDOXHUIj-Mi"
   },
   "outputs": [],
   "source": [
    "datalength = data.shape[0]\n",
    "\n",
    "sentiment = data[['Average_Anger', 'Average_Joy', 'Average_Sadness', 'Average_Fear', 'Average_Disgust']].copy()\n",
    "price = data[['Close']].copy()\n",
    "\n",
    "scaler_value = MinMaxScaler(feature_range=(0, 1))\n",
    "values = data['Close'].values.reshape(datalength,1)\n",
    "values = values.astype('float32')\n",
    "values = scaler_value.fit_transform(values)\n",
    "values = values.reshape(datalength,1,1)\n",
    "\n",
    "scaler_sentiment = MinMaxScaler(feature_range=(0,1))\n",
    "sentiments = sentiment.values\n",
    "sentiments = scaler_sentiment.fit_transform(sentiments)\n",
    "sentiments = sentiments.reshape(datalength,1,5)\n",
    "\n",
    "scaler_percentage = MinMaxScaler(feature_range=(0, 1))\n",
    "percentage = data['Percentage'].values.reshape(datalength,1)\n",
    "percentage = scaler_percentage.fit_transform(percentage)\n",
    "percentage = percentage.reshape(datalength,1,1)"
   ]
  },
  {
   "cell_type": "markdown",
   "metadata": {
    "colab_type": "text",
    "id": "3xL4AAp_2W-y"
   },
   "source": [
    "**Split the data into training set and test set :**"
   ]
  },
  {
   "cell_type": "code",
   "execution_count": 7,
   "metadata": {
    "colab": {},
    "colab_type": "code",
    "id": "peJy_OTCj-Mt"
   },
   "outputs": [],
   "source": [
    "train_size = int(len(values) * 0.7)\n",
    "test_size = len(values) - train_size\n",
    "\n",
    "trainP = values[0:train_size,:,:]\n",
    "testP = values[train_size:len(values),:,:]\n",
    "\n",
    "trainS = sentiments[0:train_size,:,:]\n",
    "testS = sentiments[train_size:len(values),:,:]\n",
    "\n",
    "trainpercentage = percentage[0:train_size,:,:]\n",
    "testpercentage= percentage[train_size:len(values),:,:]\n"
   ]
  },
  {
   "cell_type": "markdown",
   "metadata": {
    "colab_type": "text",
    "id": "h3vN9X0x3DiE"
   },
   "source": [
    "**Create three matrix (price, sentiment, percentage) as the inputs for the LSTM model :**\n",
    "\n",
    "\n",
    "*   define three functions to process the dataset\n",
    "*  we set the look_back (lag) to 51\n",
    "\n"
   ]
  },
  {
   "cell_type": "code",
   "execution_count": 8,
   "metadata": {
    "colab": {},
    "colab_type": "code",
    "id": "cyEUPInEj-M7"
   },
   "outputs": [],
   "source": [
    "def create_dataset_price(dataset, look_back):\n",
    "    dataX, dataY = [], []\n",
    "    for i in range(look_back, len(dataset)):\n",
    "        a = dataset[i-look_back : i, 0]\n",
    "        dataX.append(a)\n",
    "    return np.array(dataX)\n",
    "  \n",
    "def create_dataset_sentiment(dataset, look_back):\n",
    "    dataX, dataY = [], []\n",
    "    for i in range(look_back, len(dataset)):\n",
    "        a = dataset[i-look_back : i, 0]\n",
    "        dataX.append(a)\n",
    "    return np.array(dataX)\n",
    "  \n",
    "def create_dataset_percentage(dataset, look_back):\n",
    "    dataX, dataY = [], []\n",
    "    for i in range(look_back, len(dataset)):\n",
    "        a = dataset[i-look_back : i, 0]\n",
    "        dataX.append(a)\n",
    "    return np.array(dataX) \n",
    "\n",
    "look_back = 51\n",
    "  \n",
    "trainPrice = create_dataset_price(trainP,look_back)\n",
    "testPrice = create_dataset_price(testP,look_back)\n",
    "trainSentiment = create_dataset_sentiment(trainS,look_back)\n",
    "testSentiment = create_dataset_sentiment(testS,look_back)\n",
    "trainPercentage = create_dataset_percentage(trainpercentage,look_back)\n",
    "testPercentage = create_dataset_percentage(testpercentage,look_back)\n",
    "\n",
    "trainPrice = np.reshape(trainPrice, (trainPrice.shape[0], 1, trainPrice.shape[1]))\n",
    "testPrice = np.reshape(testPrice, (testPrice.shape[0], 1, testPrice.shape[1]))\n",
    "trainSentiment = np.reshape(trainSentiment, (trainSentiment.shape[0], 51, 5))\n",
    "testSentiment = np.reshape(testSentiment, (testSentiment.shape[0],51, 5))  \n",
    "trainPercentage = np.reshape(trainPercentage, (trainPercentage.shape[0], 1, trainPercentage.shape[1]))\n",
    "testPercentage = np.reshape(testPercentage, (testPercentage.shape[0], 1, testPercentage.shape[1]))"
   ]
  },
  {
   "cell_type": "markdown",
   "metadata": {
    "colab_type": "text",
    "id": "SmTazP2F4VTc"
   },
   "source": [
    "**preprocess the label to categorical labels :**"
   ]
  },
  {
   "cell_type": "code",
   "execution_count": 9,
   "metadata": {
    "colab": {},
    "colab_type": "code",
    "id": "EG-RnnWOtMsy"
   },
   "outputs": [],
   "source": [
    "  from keras.utils import to_categorical\n",
    "  \n",
    "  label = data['label'].values  \n",
    "  label = to_categorical(label)\n",
    "  trainLabel = label[look_back : trainPrice.shape[0] + look_back] \n",
    "  testLabel = label[trainPrice.shape[0] + 2*look_back  : label.shape[0]] "
   ]
  },
  {
   "cell_type": "markdown",
   "metadata": {
    "colab_type": "text",
    "id": "8jgPm-2j4rha"
   },
   "source": [
    "# Build the LSTM model for classification :\n",
    "\n",
    "\n",
    "*   Three independent input (price, sentiment, percentage)\n",
    "*   One hidden layer for each input\n",
    "*   In the Dense layer, we use 'softmax' as the activation function\n",
    "*   We use 'adam' as the optimizer, 'categorical_crossentropy' as the loss function, 'accuracy' as the model metrics\n",
    "\n",
    "\n",
    "\n"
   ]
  },
  {
   "cell_type": "code",
   "execution_count": 10,
   "metadata": {
    "colab": {},
    "colab_type": "code",
    "id": "cHpyNQw6j-OC"
   },
   "outputs": [],
   "source": [
    "def buildModel(lookback):\n",
    "  \n",
    "    price = Input(shape = (1, lookback),name='price')\n",
    "    priceLayers = LSTM(64, return_sequences=False)(price)\n",
    "    \n",
    "    sentiment = Input(shape=(51, 5),name='sentiment')\n",
    "    sentimentLayers = LSTM(64, return_sequences=False)(sentiment)\n",
    "    \n",
    "    percentage = Input(shape=(1, lookback),name='percentage')\n",
    "    percentageLayers = LSTM(64, return_sequences=False)(percentage)\n",
    "        \n",
    "    output = keras.layers.concatenate([priceLayers,\n",
    "                                       sentimentLayers,\n",
    "                                       percentageLayers])\n",
    "    \n",
    "    output2 = Dense(4, activation='softmax',name='output')(output)\n",
    "    \n",
    "    model = Model(inputs=[price,sentiment,percentage], outputs=[output2])\n",
    "   \n",
    "    model.compile(optimizer = 'adam', \n",
    "                  loss='categorical_crossentropy', \n",
    "                  metrics=['accuracy'])\n",
    "    \n",
    "    return model"
   ]
  },
  {
   "cell_type": "markdown",
   "metadata": {
    "colab_type": "text",
    "id": "PiD039rl56Y-"
   },
   "source": [
    "# Train the model"
   ]
  },
  {
   "cell_type": "code",
   "execution_count": 11,
   "metadata": {
    "colab": {
     "base_uri": "https://localhost:8080/",
     "height": 1000
    },
    "colab_type": "code",
    "executionInfo": {
     "elapsed": 889494,
     "status": "ok",
     "timestamp": 1564722287320,
     "user": {
      "displayName": "Zichen Li",
      "photoUrl": "https://lh6.googleusercontent.com/-G9Y_cKgeVOc/AAAAAAAAAAI/AAAAAAAAADo/D8ud3av9gMo/s64/photo.jpg",
      "userId": "09393985127784237998"
     },
     "user_tz": -570
    },
    "id": "GtL4Q5Ojj-NG",
    "outputId": "fa37dad6-2123-41b4-a428-a44622ee5149"
   },
   "outputs": [
    {
     "name": "stderr",
     "output_type": "stream",
     "text": [
      "WARNING: Logging before flag parsing goes to stderr.\n",
      "W0909 15:20:47.665934 15632 deprecation_wrapper.py:119] From C:\\Users\\Ray\\Anaconda3\\lib\\site-packages\\keras\\backend\\tensorflow_backend.py:541: The name tf.placeholder is deprecated. Please use tf.compat.v1.placeholder instead.\n",
      "\n",
      "W0909 15:20:47.701838 15632 deprecation_wrapper.py:119] From C:\\Users\\Ray\\Anaconda3\\lib\\site-packages\\keras\\backend\\tensorflow_backend.py:66: The name tf.get_default_graph is deprecated. Please use tf.compat.v1.get_default_graph instead.\n",
      "\n",
      "W0909 15:20:47.703835 15632 deprecation_wrapper.py:119] From C:\\Users\\Ray\\Anaconda3\\lib\\site-packages\\keras\\backend\\tensorflow_backend.py:4432: The name tf.random_uniform is deprecated. Please use tf.random.uniform instead.\n",
      "\n",
      "W0909 15:20:48.183433 15632 deprecation_wrapper.py:119] From C:\\Users\\Ray\\Anaconda3\\lib\\site-packages\\keras\\optimizers.py:793: The name tf.train.Optimizer is deprecated. Please use tf.compat.v1.train.Optimizer instead.\n",
      "\n",
      "W0909 15:20:48.204123 15632 deprecation_wrapper.py:119] From C:\\Users\\Ray\\Anaconda3\\lib\\site-packages\\keras\\backend\\tensorflow_backend.py:3576: The name tf.log is deprecated. Please use tf.math.log instead.\n",
      "\n",
      "W0909 15:20:48.297352 15632 deprecation.py:323] From C:\\Users\\Ray\\Anaconda3\\lib\\site-packages\\tensorflow\\python\\ops\\math_grad.py:1250: add_dispatch_support.<locals>.wrapper (from tensorflow.python.ops.array_ops) is deprecated and will be removed in a future version.\n",
      "Instructions for updating:\n",
      "Use tf.where in 2.0, which has the same broadcast rule as np.where\n",
      "W0909 15:20:49.543199 15632 deprecation_wrapper.py:119] From C:\\Users\\Ray\\Anaconda3\\lib\\site-packages\\keras\\backend\\tensorflow_backend.py:1033: The name tf.assign_add is deprecated. Please use tf.compat.v1.assign_add instead.\n",
      "\n"
     ]
    },
    {
     "name": "stdout",
     "output_type": "stream",
     "text": [
      "Train on 19995 samples, validate on 2222 samples\n",
      "Epoch 1/50\n",
      "19995/19995 [==============================] - 11s 533us/step - loss: 1.1962 - acc: 0.4612 - val_loss: 0.9240 - val_acc: 0.6656\n",
      "Epoch 2/50\n",
      "19995/19995 [==============================] - 10s 488us/step - loss: 0.9990 - acc: 0.5854 - val_loss: 0.7968 - val_acc: 0.6971\n",
      "Epoch 3/50\n",
      "19995/19995 [==============================] - 12s 575us/step - loss: 0.9058 - acc: 0.6279 - val_loss: 0.7303 - val_acc: 0.7106\n",
      "Epoch 4/50\n",
      "19995/19995 [==============================] - 11s 571us/step - loss: 0.8539 - acc: 0.6535 - val_loss: 0.6977 - val_acc: 0.7219\n",
      "Epoch 5/50\n",
      "19995/19995 [==============================] - 11s 574us/step - loss: 0.8154 - acc: 0.6736 - val_loss: 0.6667 - val_acc: 0.7354\n",
      "Epoch 6/50\n",
      "19995/19995 [==============================] - 12s 582us/step - loss: 0.7854 - acc: 0.6925 - val_loss: 0.6668 - val_acc: 0.7340\n",
      "Epoch 7/50\n",
      "19995/19995 [==============================] - 13s 626us/step - loss: 0.7671 - acc: 0.6983 - val_loss: 0.6381 - val_acc: 0.7435\n",
      "Epoch 8/50\n",
      "19995/19995 [==============================] - 12s 576us/step - loss: 0.7461 - acc: 0.7126 - val_loss: 0.6403 - val_acc: 0.7502\n",
      "Epoch 9/50\n",
      "19995/19995 [==============================] - 12s 583us/step - loss: 0.7362 - acc: 0.7133 - val_loss: 0.6273 - val_acc: 0.7520\n",
      "Epoch 10/50\n",
      "19995/19995 [==============================] - 12s 580us/step - loss: 0.7214 - acc: 0.7222 - val_loss: 0.6055 - val_acc: 0.7597\n",
      "Epoch 11/50\n",
      "19995/19995 [==============================] - 12s 586us/step - loss: 0.7081 - acc: 0.7320 - val_loss: 0.6307 - val_acc: 0.7561\n",
      "Epoch 12/50\n",
      "19995/19995 [==============================] - 12s 598us/step - loss: 0.7027 - acc: 0.7316 - val_loss: 0.6133 - val_acc: 0.7583\n",
      "Epoch 13/50\n",
      "19995/19995 [==============================] - 12s 606us/step - loss: 0.6927 - acc: 0.7357 - val_loss: 0.6218 - val_acc: 0.7597\n",
      "Epoch 14/50\n",
      "19995/19995 [==============================] - 12s 601us/step - loss: 0.6839 - acc: 0.7424 - val_loss: 0.6026 - val_acc: 0.7642\n",
      "Epoch 15/50\n",
      "19995/19995 [==============================] - 12s 611us/step - loss: 0.6727 - acc: 0.7462 - val_loss: 0.5746 - val_acc: 0.7696\n",
      "Epoch 16/50\n",
      "19995/19995 [==============================] - 14s 703us/step - loss: 0.6743 - acc: 0.7406 - val_loss: 0.5969 - val_acc: 0.7705\n",
      "Epoch 17/50\n",
      "19995/19995 [==============================] - 13s 641us/step - loss: 0.6658 - acc: 0.7487 - val_loss: 0.5890 - val_acc: 0.7615\n",
      "Epoch 18/50\n",
      "19995/19995 [==============================] - 11s 569us/step - loss: 0.6535 - acc: 0.7577 - val_loss: 0.5760 - val_acc: 0.7732\n",
      "Epoch 19/50\n",
      "19995/19995 [==============================] - 11s 569us/step - loss: 0.6575 - acc: 0.7536 - val_loss: 0.5610 - val_acc: 0.7768\n",
      "Epoch 20/50\n",
      "19995/19995 [==============================] - 11s 567us/step - loss: 0.6432 - acc: 0.7601 - val_loss: 0.5636 - val_acc: 0.7795\n",
      "Epoch 21/50\n",
      "19995/19995 [==============================] - 11s 571us/step - loss: 0.6430 - acc: 0.7567 - val_loss: 0.5688 - val_acc: 0.7754\n",
      "Epoch 22/50\n",
      "19995/19995 [==============================] - 12s 575us/step - loss: 0.6343 - acc: 0.7639 - val_loss: 0.5576 - val_acc: 0.7808\n",
      "Epoch 23/50\n",
      "19995/19995 [==============================] - 12s 587us/step - loss: 0.6304 - acc: 0.7662 - val_loss: 0.5962 - val_acc: 0.7678\n",
      "Epoch 24/50\n",
      "19995/19995 [==============================] - 12s 581us/step - loss: 0.6313 - acc: 0.7661 - val_loss: 0.5633 - val_acc: 0.7867\n",
      "Epoch 25/50\n",
      "19995/19995 [==============================] - 12s 587us/step - loss: 0.6270 - acc: 0.7679 - val_loss: 0.6054 - val_acc: 0.7736\n",
      "Epoch 26/50\n",
      "19995/19995 [==============================] - 12s 588us/step - loss: 0.6226 - acc: 0.7690 - val_loss: 0.5505 - val_acc: 0.7858\n",
      "Epoch 27/50\n",
      "19995/19995 [==============================] - 12s 623us/step - loss: 0.6172 - acc: 0.7696 - val_loss: 0.5510 - val_acc: 0.7871\n",
      "Epoch 28/50\n",
      "19995/19995 [==============================] - 12s 604us/step - loss: 0.6154 - acc: 0.7705 - val_loss: 0.5491 - val_acc: 0.7853\n",
      "Epoch 29/50\n",
      "19995/19995 [==============================] - 13s 649us/step - loss: 0.6051 - acc: 0.7806 - val_loss: 0.5515 - val_acc: 0.7858\n",
      "Epoch 30/50\n",
      "19995/19995 [==============================] - 12s 612us/step - loss: 0.6067 - acc: 0.7776 - val_loss: 0.5431 - val_acc: 0.7880\n",
      "Epoch 31/50\n",
      "19995/19995 [==============================] - 12s 583us/step - loss: 0.6028 - acc: 0.7800 - val_loss: 0.5937 - val_acc: 0.7826\n",
      "Epoch 32/50\n",
      "19995/19995 [==============================] - 12s 594us/step - loss: 0.6040 - acc: 0.7754 - val_loss: 0.5528 - val_acc: 0.7858\n",
      "Epoch 33/50\n",
      "19995/19995 [==============================] - 12s 582us/step - loss: 0.5955 - acc: 0.7838 - val_loss: 0.5455 - val_acc: 0.7894\n",
      "Epoch 34/50\n",
      "19995/19995 [==============================] - 12s 588us/step - loss: 0.6019 - acc: 0.7768 - val_loss: 0.5545 - val_acc: 0.7930\n",
      "Epoch 35/50\n",
      "19995/19995 [==============================] - 12s 622us/step - loss: 0.5920 - acc: 0.7856 - val_loss: 0.5330 - val_acc: 0.7988\n",
      "Epoch 36/50\n",
      "19995/19995 [==============================] - 12s 603us/step - loss: 0.5921 - acc: 0.7814 - val_loss: 0.5365 - val_acc: 0.7925\n",
      "Epoch 37/50\n",
      "19995/19995 [==============================] - 13s 630us/step - loss: 0.5895 - acc: 0.7830 - val_loss: 0.5336 - val_acc: 0.7957\n",
      "Epoch 38/50\n",
      "19995/19995 [==============================] - 12s 599us/step - loss: 0.5909 - acc: 0.7818 - val_loss: 0.5311 - val_acc: 0.7970\n",
      "Epoch 39/50\n",
      "19995/19995 [==============================] - 12s 588us/step - loss: 0.5812 - acc: 0.7918 - val_loss: 0.5328 - val_acc: 0.7984\n",
      "Epoch 40/50\n",
      "19995/19995 [==============================] - 12s 579us/step - loss: 0.5928 - acc: 0.7750 - val_loss: 0.5346 - val_acc: 0.7984\n",
      "Epoch 41/50\n",
      "19995/19995 [==============================] - 12s 580us/step - loss: 0.5790 - acc: 0.7900 - val_loss: 0.5508 - val_acc: 0.7957\n",
      "Epoch 42/50\n",
      "19995/19995 [==============================] - 12s 582us/step - loss: 0.5781 - acc: 0.7879 - val_loss: 0.5359 - val_acc: 0.7979\n",
      "Epoch 43/50\n",
      "19995/19995 [==============================] - 12s 580us/step - loss: 0.5820 - acc: 0.7846 - val_loss: 0.5271 - val_acc: 0.8006\n",
      "Epoch 44/50\n",
      "19995/19995 [==============================] - 12s 577us/step - loss: 0.5790 - acc: 0.7864 - val_loss: 0.5287 - val_acc: 0.7997\n",
      "Epoch 45/50\n",
      "19995/19995 [==============================] - 12s 586us/step - loss: 0.5710 - acc: 0.7948 - val_loss: 0.5298 - val_acc: 0.8011\n",
      "Epoch 46/50\n",
      "19995/19995 [==============================] - 12s 581us/step - loss: 0.5719 - acc: 0.7938 - val_loss: 0.5357 - val_acc: 0.7988\n",
      "Epoch 47/50\n",
      "19995/19995 [==============================] - 12s 581us/step - loss: 0.5759 - acc: 0.7878 - val_loss: 0.5279 - val_acc: 0.7988\n",
      "Epoch 48/50\n",
      "19995/19995 [==============================] - 12s 587us/step - loss: 0.5676 - acc: 0.7961 - val_loss: 0.5331 - val_acc: 0.7943\n",
      "Epoch 49/50\n",
      "19995/19995 [==============================] - 12s 583us/step - loss: 0.5659 - acc: 0.7946 - val_loss: 0.5260 - val_acc: 0.8002\n",
      "Epoch 50/50\n",
      "19995/19995 [==============================] - 12s 582us/step - loss: 0.5752 - acc: 0.7849 - val_loss: 0.5371 - val_acc: 0.7930\n"
     ]
    },
    {
     "data": {
      "text/plain": [
       "<keras.callbacks.History at 0x1e0bea0bf60>"
      ]
     },
     "execution_count": 11,
     "metadata": {},
     "output_type": "execute_result"
    }
   ],
   "source": [
    "look_back = 51  \n",
    "lstm = buildModel(look_back)\n",
    "lstm.fit([trainPrice,trainSentiment,trainPercentage],trainLabel,\n",
    "              epochs = 50, \n",
    "              batch_size = 64, \n",
    "              verbose = 1,\n",
    "              validation_split=0.1,\n",
    "              # callbacks=[TensorBoardColabCallback(tbc)], \n",
    "              shuffle=True)"
   ]
  },
  {
   "cell_type": "markdown",
   "metadata": {
    "colab_type": "text",
    "id": "LFlUbgoU6RQV"
   },
   "source": [
    "**Model summary :**"
   ]
  },
  {
   "cell_type": "code",
   "execution_count": 12,
   "metadata": {
    "colab": {
     "base_uri": "https://localhost:8080/",
     "height": 442
    },
    "colab_type": "code",
    "executionInfo": {
     "elapsed": 892350,
     "status": "ok",
     "timestamp": 1564722290636,
     "user": {
      "displayName": "Zichen Li",
      "photoUrl": "https://lh6.googleusercontent.com/-G9Y_cKgeVOc/AAAAAAAAAAI/AAAAAAAAADo/D8ud3av9gMo/s64/photo.jpg",
      "userId": "09393985127784237998"
     },
     "user_tz": -570
    },
    "id": "V2wzxuBB2BRl",
    "outputId": "5dda2df0-eef3-4677-cd1b-30b2d04dec57"
   },
   "outputs": [
    {
     "name": "stdout",
     "output_type": "stream",
     "text": [
      "Model: \"model_1\"\n",
      "__________________________________________________________________________________________________\n",
      "Layer (type)                    Output Shape         Param #     Connected to                     \n",
      "==================================================================================================\n",
      "price (InputLayer)              (None, 1, 51)        0                                            \n",
      "__________________________________________________________________________________________________\n",
      "sentiment (InputLayer)          (None, 51, 5)        0                                            \n",
      "__________________________________________________________________________________________________\n",
      "percentage (InputLayer)         (None, 1, 51)        0                                            \n",
      "__________________________________________________________________________________________________\n",
      "lstm_1 (LSTM)                   (None, 64)           29696       price[0][0]                      \n",
      "__________________________________________________________________________________________________\n",
      "lstm_2 (LSTM)                   (None, 64)           17920       sentiment[0][0]                  \n",
      "__________________________________________________________________________________________________\n",
      "lstm_3 (LSTM)                   (None, 64)           29696       percentage[0][0]                 \n",
      "__________________________________________________________________________________________________\n",
      "concatenate_1 (Concatenate)     (None, 192)          0           lstm_1[0][0]                     \n",
      "                                                                 lstm_2[0][0]                     \n",
      "                                                                 lstm_3[0][0]                     \n",
      "__________________________________________________________________________________________________\n",
      "output (Dense)                  (None, 4)            772         concatenate_1[0][0]              \n",
      "==================================================================================================\n",
      "Total params: 78,084\n",
      "Trainable params: 78,084\n",
      "Non-trainable params: 0\n",
      "__________________________________________________________________________________________________\n"
     ]
    }
   ],
   "source": [
    "lstm.summary()"
   ]
  },
  {
   "cell_type": "markdown",
   "metadata": {
    "colab_type": "text",
    "id": "89K-wCad7KJ0"
   },
   "source": [
    "# Evaluate the model with test set data we left unseen\n",
    "\n",
    "\n",
    "*   **class 0**:   price variation after 24 hours > 1.5%\n",
    "*   **class 1**:   0 <= price variation after 24 hours <= 1.5%\n",
    "*   **class 2**:   -1.5% <= price variation after 24 hours < 0\n",
    "*   **class 3**:   price variation after 24 hours < -1.5%\n",
    "\n",
    "\n",
    "\n"
   ]
  },
  {
   "cell_type": "code",
   "execution_count": 13,
   "metadata": {
    "colab": {
     "base_uri": "https://localhost:8080/",
     "height": 323
    },
    "colab_type": "code",
    "executionInfo": {
     "elapsed": 892700,
     "status": "ok",
     "timestamp": 1564722290627,
     "user": {
      "displayName": "Zichen Li",
      "photoUrl": "https://lh6.googleusercontent.com/-G9Y_cKgeVOc/AAAAAAAAAAI/AAAAAAAAADo/D8ud3av9gMo/s64/photo.jpg",
      "userId": "09393985127784237998"
     },
     "user_tz": -570
    },
    "id": "8Rclv6Nig8jr",
    "outputId": "481788b5-774f-4c66-95f3-e775068b0b17"
   },
   "outputs": [
    {
     "name": "stdout",
     "output_type": "stream",
     "text": [
      "9493/9493 [==============================] - 2s 162us/step\n",
      "Test set Loss: 0.626  Accuracy: 0.769\n",
      "\n",
      "\n",
      "2205\n",
      "2270\n",
      "2395\n",
      "2623\n",
      "\n",
      "1911\n",
      "1728\n",
      "1710\n",
      "1955\n",
      "\n",
      "accuracy for class 0:  0.8666666666666667\n",
      "accuracy for class 1:  0.7612334801762115\n",
      "accuracy for class 2:  0.7139874739039666\n",
      "accuracy for class 3:  0.7453297750667175\n"
     ]
    }
   ],
   "source": [
    "accr = lstm.evaluate([testPrice, testSentiment,testPercentage],testLabel)\n",
    "print('Test set Loss: {:0.3f}  Accuracy: {:0.3f}'.format(accr[0],accr[1]))\n",
    "print('\\n')\n",
    "\n",
    "labels = [0,1,2,3]; predict_label =[]; true_label=[];\n",
    "\n",
    "pred = lstm.predict([testPrice,testSentiment,testPercentage])\n",
    "\n",
    "for i in range(testPrice.shape[0]):\n",
    "  predict_label.append(labels[np.argmax(pred[i])]) \n",
    "  true_label.append(labels[np.argmax(testLabel[i])])\n",
    "  \n",
    "count0=0; count0_correct=0\n",
    "count1=0; count1_correct=0\n",
    "count2=0; count2_correct=0\n",
    "count3=0; count3_correct=0\n",
    "\n",
    "for i in range(len(predict_label)):\n",
    "  if (predict_label[i] ==0):\n",
    "    count0 =count0+1\n",
    "    if (predict_label[i] == true_label[i]):\n",
    "      count0_correct = count0_correct+1\n",
    "  elif (predict_label[i] ==1):\n",
    "    count1 = count1+1\n",
    "    if (predict_label[i] == true_label[i]):\n",
    "      count1_correct = count1_correct+1\n",
    "  elif (predict_label[i] ==2):\n",
    "    count2 = count2+1\n",
    "    if (predict_label[i] == true_label[i]):\n",
    "      count2_correct = count2_correct+1\n",
    "  elif (predict_label[i] ==3):\n",
    "    count3 = count3+1\n",
    "    if (predict_label[i] == true_label[i]):\n",
    "      count3_correct = count3_correct+1\n",
    "      \n",
    "print(count0)\n",
    "print(count1)\n",
    "print(count2)\n",
    "print(count3)\n",
    "print()\n",
    "print(count0_correct)\n",
    "print(count1_correct)\n",
    "print(count2_correct)\n",
    "print(count3_correct)\n",
    "print()\n",
    "print('accuracy for class 0: ', count0_correct/count0)\n",
    "print('accuracy for class 1: ', count1_correct/count1)\n",
    "print('accuracy for class 2: ', count2_correct/count2)\n",
    "print('accuracy for class 3: ', count3_correct/count3)"
   ]
  },
  {
   "cell_type": "code",
   "execution_count": null,
   "metadata": {},
   "outputs": [],
   "source": []
  }
 ],
 "metadata": {
  "colab": {
   "collapsed_sections": [
    "ndr6YQSgsZZy",
    "11CuOWufx-6t",
    "ixCgIsD3zrfX",
    "8jgPm-2j4rha",
    "PiD039rl56Y-",
    "89K-wCad7KJ0"
   ],
   "name": "LSTM_ClassificationModel_Price+Sentiment+Percentage_24hour_1Layer.ipynb",
   "provenance": [],
   "version": "0.3.2"
  },
  "kernelspec": {
   "display_name": "Python 3",
   "language": "python",
   "name": "python3"
  },
  "language_info": {
   "codemirror_mode": {
    "name": "ipython",
    "version": 3
   },
   "file_extension": ".py",
   "mimetype": "text/x-python",
   "name": "python",
   "nbconvert_exporter": "python",
   "pygments_lexer": "ipython3",
   "version": "3.7.3"
  }
 },
 "nbformat": 4,
 "nbformat_minor": 1
}
