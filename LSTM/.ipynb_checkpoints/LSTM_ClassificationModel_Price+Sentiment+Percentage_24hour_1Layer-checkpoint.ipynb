{
 "cells": [
  {
   "cell_type": "markdown",
   "metadata": {
    "colab_type": "text",
    "id": "ndr6YQSgsZZy"
   },
   "source": [
    "# This is the code for the best classification model we've trained:\n",
    "\n",
    "*   LSTM mdoel with one hidden layer\n",
    "*   Three inputs: price, sentiment, percentage (price variation after 24 hours) \n",
    "*   We use TensorBoard to track and visualize the performance metrics such as loss and accuracy. We've commented out the codes for connecting with TensorBoard because they only work in **Google Colab** environment. If you are using **Jupyter**, here is the link for setting up TensorBoard: https://www.tensorflow.org/tensorboard/r2/tensorboard_in_notebooks\n",
    "\n",
    "\n",
    "\n",
    "\n",
    "\n",
    " \n"
   ]
  },
  {
   "cell_type": "code",
   "execution_count": 0,
   "metadata": {
    "colab": {
     "base_uri": "https://localhost:8080/",
     "height": 34
    },
    "colab_type": "code",
    "executionInfo": {
     "elapsed": 6789,
     "status": "ok",
     "timestamp": 1564721402844,
     "user": {
      "displayName": "Zichen Li",
      "photoUrl": "https://lh6.googleusercontent.com/-G9Y_cKgeVOc/AAAAAAAAAAI/AAAAAAAAADo/D8ud3av9gMo/s64/photo.jpg",
      "userId": "09393985127784237998"
     },
     "user_tz": -570
    },
    "id": "T_qrNK1vj-Lb",
    "outputId": "293a97ba-b791-4de1-a2ea-d0c921ce1d61"
   },
   "outputs": [
    {
     "name": "stderr",
     "output_type": "stream",
     "text": [
      "Using TensorFlow backend.\n"
     ]
    },
    {
     "data": {
      "text/html": [
       "<script type=\"text/javascript\">window.PlotlyConfig = {MathJaxConfig: 'local'};</script><script type=\"text/javascript\">if (window.MathJax) {MathJax.Hub.Config({SVG: {font: \"STIX-Web\"}});}</script><script>requirejs.config({paths: { 'plotly': ['https://cdn.plot.ly/plotly-latest.min']},});if(!window._Plotly) {require(['plotly'],function(plotly) {window._Plotly=plotly;});}</script>"
      ],
      "text/vnd.plotly.v1+html": [
       "<script type=\"text/javascript\">window.PlotlyConfig = {MathJaxConfig: 'local'};</script><script type=\"text/javascript\">if (window.MathJax) {MathJax.Hub.Config({SVG: {font: \"STIX-Web\"}});}</script><script>requirejs.config({paths: { 'plotly': ['https://cdn.plot.ly/plotly-latest.min']},});if(!window._Plotly) {require(['plotly'],function(plotly) {window._Plotly=plotly;});}</script>"
      ]
     },
     "metadata": {
      "tags": []
     },
     "output_type": "display_data"
    }
   ],
   "source": [
    "import pandas as pd\n",
    "import numpy as np\n",
    "import keras\n",
    "from math import sqrt\n",
    "from numpy import concatenate\n",
    "from matplotlib import pyplot\n",
    "from datetime import datetime\n",
    "from sklearn.preprocessing import MinMaxScaler\n",
    "from sklearn.preprocessing import LabelEncoder\n",
    "from sklearn.metrics import mean_squared_error\n",
    "from keras.utils import to_categorical\n",
    "from keras.layers import Input, Embedding, LSTM, Dense\n",
    "from keras.models import Model\n",
    "from keras.models import Sequential\n",
    "from keras.layers import Dense\n",
    "from keras.layers import LSTM\n",
    "from keras.layers import GRU\n",
    "import plotly.offline as py\n",
    "import plotly.graph_objs as go\n",
    "import seaborn as sns\n",
    "%matplotlib inline"
   ]
  },
  {
   "cell_type": "markdown",
   "metadata": {
    "colab_type": "text",
    "id": "11CuOWufx-6t"
   },
   "source": [
    "# The following block of codes are for using TensorBoard in Google Colab"
   ]
  },
  {
   "cell_type": "code",
   "execution_count": 0,
   "metadata": {
    "colab": {
     "base_uri": "https://localhost:8080/",
     "height": 68
    },
    "colab_type": "code",
    "executionInfo": {
     "elapsed": 20186,
     "status": "ok",
     "timestamp": 1564721416836,
     "user": {
      "displayName": "Zichen Li",
      "photoUrl": "https://lh6.googleusercontent.com/-G9Y_cKgeVOc/AAAAAAAAAAI/AAAAAAAAADo/D8ud3av9gMo/s64/photo.jpg",
      "userId": "09393985127784237998"
     },
     "user_tz": -570
    },
    "id": "GaqN3s9GJg40",
    "outputId": "5c64e761-9aa6-45de-b593-2ba8c6d96fce"
   },
   "outputs": [
    {
     "name": "stdout",
     "output_type": "stream",
     "text": [
      "Wait for 8 seconds...\n",
      "TensorBoard link:\n",
      "https://1861ff8f.ngrok.io\n"
     ]
    }
   ],
   "source": [
    "#from tensorboardcolab import TensorBoardColab, TensorBoardColabCallback\n",
    "#py.init_notebook_mode(connected=True)\n",
    "#tbc=TensorBoardColab()"
   ]
  },
  {
   "cell_type": "markdown",
   "metadata": {
    "colab_type": "text",
    "id": "ixCgIsD3zrfX"
   },
   "source": [
    "# Preprocessing data input\n",
    "\n",
    "*   The original data file is called \"24hour_price_emotion_4label.csv\". pLease change the file path accordingly while reading the file.\n",
    "*   List item\n",
    "\n",
    "\n"
   ]
  },
  {
   "cell_type": "markdown",
   "metadata": {
    "colab_type": "text",
    "id": "gVLpyljZ0s2S"
   },
   "source": [
    "**Read the data file \"24hour_price_emotion_4label.csv\" :**"
   ]
  },
  {
   "cell_type": "code",
   "execution_count": 0,
   "metadata": {
    "colab": {
     "base_uri": "https://localhost:8080/",
     "height": 411
    },
    "colab_type": "code",
    "executionInfo": {
     "elapsed": 20795,
     "status": "ok",
     "timestamp": 1564721417497,
     "user": {
      "displayName": "Zichen Li",
      "photoUrl": "https://lh6.googleusercontent.com/-G9Y_cKgeVOc/AAAAAAAAAAI/AAAAAAAAADo/D8ud3av9gMo/s64/photo.jpg",
      "userId": "09393985127784237998"
     },
     "user_tz": -570
    },
    "id": "gs3Svr3-j-L5",
    "outputId": "52b287ac-831a-4acc-89c8-91465b5eee54"
   },
   "outputs": [
    {
     "data": {
      "text/html": [
       "<div>\n",
       "<style scoped>\n",
       "    .dataframe tbody tr th:only-of-type {\n",
       "        vertical-align: middle;\n",
       "    }\n",
       "\n",
       "    .dataframe tbody tr th {\n",
       "        vertical-align: top;\n",
       "    }\n",
       "\n",
       "    .dataframe thead th {\n",
       "        text-align: right;\n",
       "    }\n",
       "</style>\n",
       "<table border=\"1\" class=\"dataframe\">\n",
       "  <thead>\n",
       "    <tr style=\"text-align: right;\">\n",
       "      <th></th>\n",
       "      <th>Unnamed: 0</th>\n",
       "      <th>Unix Timestamp</th>\n",
       "      <th>Date</th>\n",
       "      <th>Symbol</th>\n",
       "      <th>Open</th>\n",
       "      <th>High</th>\n",
       "      <th>Low</th>\n",
       "      <th>Close</th>\n",
       "      <th>Volume</th>\n",
       "      <th>Average_Anger</th>\n",
       "      <th>Average_Joy</th>\n",
       "      <th>Average_Sadness</th>\n",
       "      <th>Average_Fear</th>\n",
       "      <th>Average_Disgust</th>\n",
       "      <th>Maximum_Anger</th>\n",
       "      <th>Maximum_Joy</th>\n",
       "      <th>Maximum_Sadness</th>\n",
       "      <th>Maximum_Fear</th>\n",
       "      <th>Maximum_Disgust</th>\n",
       "      <th>Percentage</th>\n",
       "      <th>label</th>\n",
       "    </tr>\n",
       "  </thead>\n",
       "  <tbody>\n",
       "    <tr>\n",
       "      <th>0</th>\n",
       "      <td>31835</td>\n",
       "      <td>1.444309e+09</td>\n",
       "      <td>2015-10-08 13:00:00</td>\n",
       "      <td>BTCUSD</td>\n",
       "      <td>0.00</td>\n",
       "      <td>245.00</td>\n",
       "      <td>0.00</td>\n",
       "      <td>245.00</td>\n",
       "      <td>0.606654</td>\n",
       "      <td>0.0</td>\n",
       "      <td>0.0</td>\n",
       "      <td>0.0</td>\n",
       "      <td>0.0</td>\n",
       "      <td>0.0</td>\n",
       "      <td>0.0</td>\n",
       "      <td>0.0</td>\n",
       "      <td>0.0</td>\n",
       "      <td>0.0</td>\n",
       "      <td>0.0</td>\n",
       "      <td>-0.004082</td>\n",
       "      <td>2</td>\n",
       "    </tr>\n",
       "    <tr>\n",
       "      <th>1</th>\n",
       "      <td>31834</td>\n",
       "      <td>1.444313e+09</td>\n",
       "      <td>2015-10-08 14:00:00</td>\n",
       "      <td>BTCUSD</td>\n",
       "      <td>245.00</td>\n",
       "      <td>245.00</td>\n",
       "      <td>244.50</td>\n",
       "      <td>245.00</td>\n",
       "      <td>4.453649</td>\n",
       "      <td>0.0</td>\n",
       "      <td>0.0</td>\n",
       "      <td>0.0</td>\n",
       "      <td>0.0</td>\n",
       "      <td>0.0</td>\n",
       "      <td>0.0</td>\n",
       "      <td>0.0</td>\n",
       "      <td>0.0</td>\n",
       "      <td>0.0</td>\n",
       "      <td>0.0</td>\n",
       "      <td>-0.004082</td>\n",
       "      <td>2</td>\n",
       "    </tr>\n",
       "    <tr>\n",
       "      <th>2</th>\n",
       "      <td>31833</td>\n",
       "      <td>1.444316e+09</td>\n",
       "      <td>2015-10-08 15:00:00</td>\n",
       "      <td>BTCUSD</td>\n",
       "      <td>245.00</td>\n",
       "      <td>245.00</td>\n",
       "      <td>244.92</td>\n",
       "      <td>244.92</td>\n",
       "      <td>3.016926</td>\n",
       "      <td>0.0</td>\n",
       "      <td>0.0</td>\n",
       "      <td>0.0</td>\n",
       "      <td>0.0</td>\n",
       "      <td>0.0</td>\n",
       "      <td>0.0</td>\n",
       "      <td>0.0</td>\n",
       "      <td>0.0</td>\n",
       "      <td>0.0</td>\n",
       "      <td>0.0</td>\n",
       "      <td>-0.003756</td>\n",
       "      <td>2</td>\n",
       "    </tr>\n",
       "    <tr>\n",
       "      <th>3</th>\n",
       "      <td>31832</td>\n",
       "      <td>1.444320e+09</td>\n",
       "      <td>2015-10-08 16:00:00</td>\n",
       "      <td>BTCUSD</td>\n",
       "      <td>244.92</td>\n",
       "      <td>244.92</td>\n",
       "      <td>244.25</td>\n",
       "      <td>244.25</td>\n",
       "      <td>3.895252</td>\n",
       "      <td>0.0</td>\n",
       "      <td>0.0</td>\n",
       "      <td>0.0</td>\n",
       "      <td>0.0</td>\n",
       "      <td>0.0</td>\n",
       "      <td>0.0</td>\n",
       "      <td>0.0</td>\n",
       "      <td>0.0</td>\n",
       "      <td>0.0</td>\n",
       "      <td>0.0</td>\n",
       "      <td>-0.001024</td>\n",
       "      <td>2</td>\n",
       "    </tr>\n",
       "    <tr>\n",
       "      <th>4</th>\n",
       "      <td>31831</td>\n",
       "      <td>1.444324e+09</td>\n",
       "      <td>2015-10-08 17:00:00</td>\n",
       "      <td>BTCUSD</td>\n",
       "      <td>244.25</td>\n",
       "      <td>244.99</td>\n",
       "      <td>244.02</td>\n",
       "      <td>244.99</td>\n",
       "      <td>3.920632</td>\n",
       "      <td>0.0</td>\n",
       "      <td>0.0</td>\n",
       "      <td>0.0</td>\n",
       "      <td>0.0</td>\n",
       "      <td>0.0</td>\n",
       "      <td>0.0</td>\n",
       "      <td>0.0</td>\n",
       "      <td>0.0</td>\n",
       "      <td>0.0</td>\n",
       "      <td>0.0</td>\n",
       "      <td>-0.005266</td>\n",
       "      <td>2</td>\n",
       "    </tr>\n",
       "  </tbody>\n",
       "</table>\n",
       "</div>"
      ],
      "text/plain": [
       "   Unnamed: 0  Unix Timestamp  ... Percentage label\n",
       "0       31835    1.444309e+09  ...  -0.004082     2\n",
       "1       31834    1.444313e+09  ...  -0.004082     2\n",
       "2       31833    1.444316e+09  ...  -0.003756     2\n",
       "3       31832    1.444320e+09  ...  -0.001024     2\n",
       "4       31831    1.444324e+09  ...  -0.005266     2\n",
       "\n",
       "[5 rows x 21 columns]"
      ]
     },
     "execution_count": 3,
     "metadata": {
      "tags": []
     },
     "output_type": "execute_result"
    }
   ],
   "source": [
    "data =  pd.read_csv ('/content/gdrive/My Drive/24hour_price_emotion_4label.csv')\n",
    "data['Date']=pd.to_datetime(data['Date'])\n",
    "data = data.sort_values(['Date'], ascending=[True])\n",
    "data.head()"
   ]
  },
  {
   "cell_type": "markdown",
   "metadata": {
    "colab_type": "text",
    "id": "U9_IQZ_M1zd8"
   },
   "source": [
    "**Transform the data using MInMax Scaler :**"
   ]
  },
  {
   "cell_type": "code",
   "execution_count": 0,
   "metadata": {
    "colab": {},
    "colab_type": "code",
    "id": "sJDOXHUIj-Mi"
   },
   "outputs": [],
   "source": [
    "datalength = data.shape[0]\n",
    "\n",
    "sentiment = data[['Average_Anger', 'Average_Joy', 'Average_Sadness', 'Average_Fear', 'Average_Disgust']].copy()\n",
    "price = price[['Close']].copy()\n",
    "\n",
    "scaler_value = MinMaxScaler(feature_range=(0, 1))\n",
    "values = data['Close'].values.reshape(datalength,1)\n",
    "values = values.astype('float32')\n",
    "values = scaler_value.fit_transform(values)\n",
    "values = values.reshape(datalength,1,1)\n",
    "\n",
    "scaler_sentiment = MinMaxScaler(feature_range=(0,1))\n",
    "sentiments = sentiment.values\n",
    "sentiments = scaler_sentiment.fit_transform(sentiments)\n",
    "sentiments = sentiments.reshape(datalength,1,5)\n",
    "\n",
    "scaler_percentage = MinMaxScaler(feature_range=(0, 1))\n",
    "percentage = data['Percentage'].values.reshape(datalength,1)\n",
    "percentage = scaler_percentage.fit_transform(percentage)\n",
    "percentage = percentage.reshape(datalength,1,1)"
   ]
  },
  {
   "cell_type": "markdown",
   "metadata": {
    "colab_type": "text",
    "id": "3xL4AAp_2W-y"
   },
   "source": [
    "**Split the data into training set and test set :**"
   ]
  },
  {
   "cell_type": "code",
   "execution_count": 0,
   "metadata": {
    "colab": {},
    "colab_type": "code",
    "id": "peJy_OTCj-Mt"
   },
   "outputs": [],
   "source": [
    "train_size = int(len(values) * 0.7)\n",
    "test_size = len(values) - train_size\n",
    "\n",
    "trainP = values[0:train_size,:,:]\n",
    "testP = values[train_size:len(values),:,:]\n",
    "\n",
    "trainS = sentiments[0:train_size,:,:]\n",
    "testS = sentiments[train_size:len(values),:,:]\n",
    "\n",
    "trainpercentage = percentage[0:train_size,:,:]\n",
    "testpercentage= percentage[train_size:len(values),:,:]\n"
   ]
  },
  {
   "cell_type": "markdown",
   "metadata": {
    "colab_type": "text",
    "id": "h3vN9X0x3DiE"
   },
   "source": [
    "**Create three matrix (price, sentiment, percentage) as the inputs for the LSTM model :**\n",
    "\n",
    "\n",
    "*   define three functions to process the dataset\n",
    "*  we set the look_back (lag) to 51\n",
    "\n"
   ]
  },
  {
   "cell_type": "code",
   "execution_count": 0,
   "metadata": {
    "colab": {},
    "colab_type": "code",
    "id": "cyEUPInEj-M7"
   },
   "outputs": [],
   "source": [
    "def create_dataset_price(dataset, look_back):\n",
    "    dataX, dataY = [], []\n",
    "    for i in range(look_back, len(dataset)):\n",
    "        a = dataset[i-look_back : i, 0]\n",
    "        dataX.append(a)\n",
    "    return np.array(dataX)\n",
    "  \n",
    "def create_dataset_sentiment(dataset, look_back):\n",
    "    dataX, dataY = [], []\n",
    "    for i in range(look_back, len(dataset)):\n",
    "        a = dataset[i-look_back : i, 0]\n",
    "        dataX.append(a)\n",
    "    return np.array(dataX)\n",
    "  \n",
    "def create_dataset_percentage(dataset, look_back):\n",
    "    dataX, dataY = [], []\n",
    "    for i in range(look_back, len(dataset)):\n",
    "        a = dataset[i-look_back : i, 0]\n",
    "        dataX.append(a)\n",
    "    return np.array(dataX) \n",
    "\n",
    "look_back = 51\n",
    "  \n",
    "trainPrice = create_dataset_price(trainP,look_back)\n",
    "testPrice = create_dataset_price(testP,look_back)\n",
    "trainSentiment = create_dataset_sentiment(trainS,look_back)\n",
    "testSentiment = create_dataset_sentiment(testS,look_back)\n",
    "trainPercentage = create_dataset_percentage(trainpercentage,look_back)\n",
    "testPercentage = create_dataset_percentage(testpercentage,look_back)\n",
    "\n",
    "trainPrice = np.reshape(trainPrice, (trainPrice.shape[0], 1, trainPrice.shape[1]))\n",
    "testPrice = np.reshape(testPrice, (testPrice.shape[0], 1, testPrice.shape[1]))\n",
    "trainSentiment = np.reshape(trainSentiment, (trainSentiment.shape[0], 51, 5))\n",
    "testSentiment = np.reshape(testSentiment, (testSentiment.shape[0],51, 5))  \n",
    "trainPercentage = np.reshape(trainPercentage, (trainPercentage.shape[0], 1, trainPercentage.shape[1]))\n",
    "testPercentage = np.reshape(testPercentage, (testPercentage.shape[0], 1, testPercentage.shape[1]))"
   ]
  },
  {
   "cell_type": "markdown",
   "metadata": {
    "colab_type": "text",
    "id": "SmTazP2F4VTc"
   },
   "source": [
    "**preprocess the label to categorical labels :**"
   ]
  },
  {
   "cell_type": "code",
   "execution_count": 0,
   "metadata": {
    "colab": {},
    "colab_type": "code",
    "id": "EG-RnnWOtMsy"
   },
   "outputs": [],
   "source": [
    "  from keras.utils import to_categorical\n",
    "  \n",
    "  label = data['label'].values  \n",
    "  label = to_categorical(label)\n",
    "  trainLabel = label[look_back : trainPrice.shape[0] + look_back] \n",
    "  testLabel = label[trainPrice.shape[0] + 2*look_back  : label.shape[0]] "
   ]
  },
  {
   "cell_type": "markdown",
   "metadata": {
    "colab_type": "text",
    "id": "8jgPm-2j4rha"
   },
   "source": [
    "# Build the LSTM model for classification :\n",
    "\n",
    "\n",
    "*   Three independent input (price, sentiment, percentage)\n",
    "*   One hidden layer for each input\n",
    "*   In the Dense layer, we use 'softmax' as the activation function\n",
    "*   We use 'adam' as the optimizer, 'categorical_crossentropy' as the loss function, 'accuracy' as the model metrics\n",
    "\n",
    "\n",
    "\n"
   ]
  },
  {
   "cell_type": "code",
   "execution_count": 0,
   "metadata": {
    "colab": {},
    "colab_type": "code",
    "id": "cHpyNQw6j-OC"
   },
   "outputs": [],
   "source": [
    "def buildModel(lookback):\n",
    "  \n",
    "    price = Input(shape = (1, lookback),name='price')\n",
    "    priceLayers = LSTM(64, return_sequences=False)(price)\n",
    "    \n",
    "    sentiment = Input(shape=(51, 5),name='sentiment')\n",
    "    sentimentLayers = LSTM(64, return_sequences=False)(sentiment)\n",
    "    \n",
    "    percentage = Input(shape=(1, lookback),name='percentage')\n",
    "    percentageLayers = LSTM(64, return_sequences=False)(percentage)\n",
    "        \n",
    "    output = keras.layers.concatenate([priceLayers,\n",
    "                                       sentimentLayers,\n",
    "                                       percentageLayers])\n",
    "    \n",
    "    output2 = Dense(4, activation='softmax',name='output')(output)\n",
    "    \n",
    "    model = Model(inputs=[price,sentiment,percentage], outputs=[output2])\n",
    "   \n",
    "    model.compile(optimizer = 'adam', \n",
    "                  loss='categorical_crossentropy', \n",
    "                  metrics=['accuracy'])\n",
    "    \n",
    "    return model"
   ]
  },
  {
   "cell_type": "markdown",
   "metadata": {
    "colab_type": "text",
    "id": "PiD039rl56Y-"
   },
   "source": [
    "# Train the model"
   ]
  },
  {
   "cell_type": "code",
   "execution_count": 0,
   "metadata": {
    "colab": {
     "base_uri": "https://localhost:8080/",
     "height": 1000
    },
    "colab_type": "code",
    "executionInfo": {
     "elapsed": 889494,
     "status": "ok",
     "timestamp": 1564722287320,
     "user": {
      "displayName": "Zichen Li",
      "photoUrl": "https://lh6.googleusercontent.com/-G9Y_cKgeVOc/AAAAAAAAAAI/AAAAAAAAADo/D8ud3av9gMo/s64/photo.jpg",
      "userId": "09393985127784237998"
     },
     "user_tz": -570
    },
    "id": "GtL4Q5Ojj-NG",
    "outputId": "fa37dad6-2123-41b4-a428-a44622ee5149"
   },
   "outputs": [
    {
     "name": "stderr",
     "output_type": "stream",
     "text": [
      "WARNING: Logging before flag parsing goes to stderr.\n",
      "W0802 04:50:17.220688 140368056440704 deprecation_wrapper.py:119] From /usr/local/lib/python3.6/dist-packages/keras/backend/tensorflow_backend.py:517: The name tf.placeholder is deprecated. Please use tf.compat.v1.placeholder instead.\n",
      "\n",
      "W0802 04:50:17.243021 140368056440704 deprecation_wrapper.py:119] From /usr/local/lib/python3.6/dist-packages/keras/backend/tensorflow_backend.py:74: The name tf.get_default_graph is deprecated. Please use tf.compat.v1.get_default_graph instead.\n",
      "\n",
      "W0802 04:50:17.245062 140368056440704 deprecation_wrapper.py:119] From /usr/local/lib/python3.6/dist-packages/keras/backend/tensorflow_backend.py:4138: The name tf.random_uniform is deprecated. Please use tf.random.uniform instead.\n",
      "\n",
      "W0802 04:50:18.095020 140368056440704 deprecation_wrapper.py:119] From /usr/local/lib/python3.6/dist-packages/keras/optimizers.py:790: The name tf.train.Optimizer is deprecated. Please use tf.compat.v1.train.Optimizer instead.\n",
      "\n",
      "W0802 04:50:18.125063 140368056440704 deprecation_wrapper.py:119] From /usr/local/lib/python3.6/dist-packages/keras/backend/tensorflow_backend.py:3295: The name tf.log is deprecated. Please use tf.math.log instead.\n",
      "\n",
      "W0802 04:50:18.840187 140368056440704 deprecation.py:323] From /usr/local/lib/python3.6/dist-packages/tensorflow/python/ops/math_grad.py:1250: add_dispatch_support.<locals>.wrapper (from tensorflow.python.ops.array_ops) is deprecated and will be removed in a future version.\n",
      "Instructions for updating:\n",
      "Use tf.where in 2.0, which has the same broadcast rule as np.where\n",
      "W0802 04:50:21.002232 140368056440704 deprecation_wrapper.py:119] From /usr/local/lib/python3.6/dist-packages/keras/backend/tensorflow_backend.py:986: The name tf.assign_add is deprecated. Please use tf.compat.v1.assign_add instead.\n",
      "\n",
      "W0802 04:50:21.326478 140368056440704 deprecation_wrapper.py:119] From /usr/local/lib/python3.6/dist-packages/tensorboardcolab/core.py:49: The name tf.summary.FileWriter is deprecated. Please use tf.compat.v1.summary.FileWriter instead.\n",
      "\n"
     ]
    },
    {
     "name": "stdout",
     "output_type": "stream",
     "text": [
      "Train on 22858 samples, validate on 2540 samples\n"
     ]
    },
    {
     "name": "stderr",
     "output_type": "stream",
     "text": [
      "W0802 04:50:21.675247 140368056440704 deprecation_wrapper.py:119] From /usr/local/lib/python3.6/dist-packages/keras/callbacks.py:850: The name tf.summary.merge_all is deprecated. Please use tf.compat.v1.summary.merge_all instead.\n",
      "\n"
     ]
    },
    {
     "name": "stdout",
     "output_type": "stream",
     "text": [
      "Epoch 1/50\n",
      "22858/22858 [==============================] - 19s 819us/step - loss: 1.1721 - acc: 0.4872 - val_loss: 1.1672 - val_acc: 0.5000\n",
      "Epoch 2/50\n",
      "22858/22858 [==============================] - 17s 750us/step - loss: 0.9540 - acc: 0.6158 - val_loss: 1.0118 - val_acc: 0.5236\n",
      "Epoch 3/50\n",
      "22858/22858 [==============================] - 17s 754us/step - loss: 0.8684 - acc: 0.6465 - val_loss: 0.9755 - val_acc: 0.5315\n",
      "Epoch 4/50\n",
      "22858/22858 [==============================] - 17s 744us/step - loss: 0.8190 - acc: 0.6704 - val_loss: 0.8840 - val_acc: 0.5441\n",
      "Epoch 5/50\n",
      "22858/22858 [==============================] - 17s 746us/step - loss: 0.7872 - acc: 0.6857 - val_loss: 0.8373 - val_acc: 0.5803\n",
      "Epoch 6/50\n",
      "22858/22858 [==============================] - 17s 749us/step - loss: 0.7847 - acc: 0.6942 - val_loss: 0.8406 - val_acc: 0.5768\n",
      "Epoch 7/50\n",
      "22858/22858 [==============================] - 17s 749us/step - loss: 0.7509 - acc: 0.7039 - val_loss: 0.8765 - val_acc: 0.5827\n",
      "Epoch 8/50\n",
      "22858/22858 [==============================] - 17s 753us/step - loss: 0.7285 - acc: 0.7159 - val_loss: 0.7698 - val_acc: 0.6469\n",
      "Epoch 9/50\n",
      "22858/22858 [==============================] - 17s 750us/step - loss: 0.7154 - acc: 0.7226 - val_loss: 0.7505 - val_acc: 0.6547\n",
      "Epoch 10/50\n",
      "22858/22858 [==============================] - 17s 751us/step - loss: 0.7027 - acc: 0.7285 - val_loss: 0.7631 - val_acc: 0.6283\n",
      "Epoch 11/50\n",
      "22858/22858 [==============================] - 17s 747us/step - loss: 0.6900 - acc: 0.7374 - val_loss: 0.7506 - val_acc: 0.6472\n",
      "Epoch 12/50\n",
      "22858/22858 [==============================] - 17s 754us/step - loss: 0.6805 - acc: 0.7397 - val_loss: 0.7502 - val_acc: 0.6331\n",
      "Epoch 13/50\n",
      "22858/22858 [==============================] - 17s 751us/step - loss: 0.6710 - acc: 0.7442 - val_loss: 0.7612 - val_acc: 0.6220\n",
      "Epoch 14/50\n",
      "22858/22858 [==============================] - 17s 751us/step - loss: 0.6674 - acc: 0.7436 - val_loss: 0.6919 - val_acc: 0.7118\n",
      "Epoch 15/50\n",
      "22858/22858 [==============================] - 17s 739us/step - loss: 0.6531 - acc: 0.7536 - val_loss: 0.6854 - val_acc: 0.7067\n",
      "Epoch 16/50\n",
      "22858/22858 [==============================] - 17s 734us/step - loss: 0.6456 - acc: 0.7557 - val_loss: 0.6715 - val_acc: 0.7193\n",
      "Epoch 17/50\n",
      "22858/22858 [==============================] - 17s 751us/step - loss: 0.6391 - acc: 0.7612 - val_loss: 0.6604 - val_acc: 0.7327\n",
      "Epoch 18/50\n",
      "22858/22858 [==============================] - 17s 749us/step - loss: 0.6359 - acc: 0.7623 - val_loss: 0.6568 - val_acc: 0.7291\n",
      "Epoch 19/50\n",
      "22858/22858 [==============================] - 17s 755us/step - loss: 0.6320 - acc: 0.7609 - val_loss: 0.6611 - val_acc: 0.7236\n",
      "Epoch 20/50\n",
      "22858/22858 [==============================] - 17s 750us/step - loss: 0.6225 - acc: 0.7671 - val_loss: 0.6465 - val_acc: 0.7366\n",
      "Epoch 21/50\n",
      "22858/22858 [==============================] - 17s 764us/step - loss: 0.6168 - acc: 0.7718 - val_loss: 0.6755 - val_acc: 0.6988\n",
      "Epoch 22/50\n",
      "22858/22858 [==============================] - 17s 756us/step - loss: 0.6192 - acc: 0.7655 - val_loss: 0.6392 - val_acc: 0.7469\n",
      "Epoch 23/50\n",
      "22858/22858 [==============================] - 17s 753us/step - loss: 0.6102 - acc: 0.7774 - val_loss: 0.6441 - val_acc: 0.7307\n",
      "Epoch 24/50\n",
      "22858/22858 [==============================] - 17s 761us/step - loss: 0.6070 - acc: 0.7758 - val_loss: 0.6530 - val_acc: 0.7150\n",
      "Epoch 25/50\n",
      "22858/22858 [==============================] - 17s 760us/step - loss: 0.6109 - acc: 0.7679 - val_loss: 0.6326 - val_acc: 0.7358\n",
      "Epoch 26/50\n",
      "22858/22858 [==============================] - 18s 766us/step - loss: 0.5996 - acc: 0.7808 - val_loss: 0.6129 - val_acc: 0.7654\n",
      "Epoch 27/50\n",
      "22858/22858 [==============================] - 17s 759us/step - loss: 0.5957 - acc: 0.7793 - val_loss: 0.6270 - val_acc: 0.7453\n",
      "Epoch 28/50\n",
      "22858/22858 [==============================] - 17s 762us/step - loss: 0.5912 - acc: 0.7796 - val_loss: 0.6382 - val_acc: 0.7346\n",
      "Epoch 29/50\n",
      "22858/22858 [==============================] - 17s 759us/step - loss: 0.5931 - acc: 0.7778 - val_loss: 0.6098 - val_acc: 0.7591\n",
      "Epoch 30/50\n",
      "22858/22858 [==============================] - 17s 759us/step - loss: 0.5879 - acc: 0.7815 - val_loss: 0.5997 - val_acc: 0.7717\n",
      "Epoch 31/50\n",
      "22858/22858 [==============================] - 17s 759us/step - loss: 0.5923 - acc: 0.7767 - val_loss: 0.6048 - val_acc: 0.7650\n",
      "Epoch 32/50\n",
      "22858/22858 [==============================] - 17s 756us/step - loss: 0.5844 - acc: 0.7831 - val_loss: 0.6301 - val_acc: 0.7307\n",
      "Epoch 33/50\n",
      "22858/22858 [==============================] - 17s 758us/step - loss: 0.5838 - acc: 0.7831 - val_loss: 0.6364 - val_acc: 0.7276\n",
      "Epoch 34/50\n",
      "22858/22858 [==============================] - 17s 761us/step - loss: 0.5787 - acc: 0.7872 - val_loss: 0.5981 - val_acc: 0.7657\n",
      "Epoch 35/50\n",
      "22858/22858 [==============================] - 17s 756us/step - loss: 0.5754 - acc: 0.7881 - val_loss: 0.5951 - val_acc: 0.7709\n",
      "Epoch 36/50\n",
      "22858/22858 [==============================] - 17s 761us/step - loss: 0.5722 - acc: 0.7883 - val_loss: 0.5895 - val_acc: 0.7783\n",
      "Epoch 37/50\n",
      "22858/22858 [==============================] - 17s 758us/step - loss: 0.5728 - acc: 0.7904 - val_loss: 0.6033 - val_acc: 0.7579\n",
      "Epoch 38/50\n",
      "22858/22858 [==============================] - 17s 762us/step - loss: 0.5751 - acc: 0.7886 - val_loss: 0.6378 - val_acc: 0.7134\n",
      "Epoch 39/50\n",
      "22858/22858 [==============================] - 18s 766us/step - loss: 0.5749 - acc: 0.7869 - val_loss: 0.6678 - val_acc: 0.6823\n",
      "Epoch 40/50\n",
      "22858/22858 [==============================] - 17s 756us/step - loss: 0.5702 - acc: 0.7894 - val_loss: 0.6150 - val_acc: 0.7449\n",
      "Epoch 41/50\n",
      "22858/22858 [==============================] - 17s 759us/step - loss: 0.5622 - acc: 0.7953 - val_loss: 0.7696 - val_acc: 0.6236\n",
      "Epoch 42/50\n",
      "22858/22858 [==============================] - 17s 754us/step - loss: 0.5663 - acc: 0.7887 - val_loss: 0.5821 - val_acc: 0.7768\n",
      "Epoch 43/50\n",
      "22858/22858 [==============================] - 17s 758us/step - loss: 0.5650 - acc: 0.7940 - val_loss: 0.5943 - val_acc: 0.7638\n",
      "Epoch 44/50\n",
      "22858/22858 [==============================] - 17s 762us/step - loss: 0.5644 - acc: 0.7915 - val_loss: 0.5879 - val_acc: 0.7705\n",
      "Epoch 45/50\n",
      "22858/22858 [==============================] - 17s 760us/step - loss: 0.5663 - acc: 0.7887 - val_loss: 0.5878 - val_acc: 0.7689\n",
      "Epoch 46/50\n",
      "22858/22858 [==============================] - 17s 758us/step - loss: 0.5587 - acc: 0.7953 - val_loss: 0.5978 - val_acc: 0.7547\n",
      "Epoch 47/50\n",
      "22858/22858 [==============================] - 17s 756us/step - loss: 0.5610 - acc: 0.7918 - val_loss: 0.5995 - val_acc: 0.7567\n",
      "Epoch 48/50\n",
      "22858/22858 [==============================] - 17s 761us/step - loss: 0.5551 - acc: 0.7952 - val_loss: 0.5865 - val_acc: 0.7713\n",
      "Epoch 49/50\n",
      "22858/22858 [==============================] - 17s 759us/step - loss: 0.5588 - acc: 0.7923 - val_loss: 0.5928 - val_acc: 0.7626\n",
      "Epoch 50/50\n",
      "22858/22858 [==============================] - 17s 759us/step - loss: 0.5590 - acc: 0.7918 - val_loss: 0.6069 - val_acc: 0.7488\n"
     ]
    },
    {
     "data": {
      "text/plain": [
       "<keras.callbacks.History at 0x7fa9b513b1d0>"
      ]
     },
     "execution_count": 13,
     "metadata": {
      "tags": []
     },
     "output_type": "execute_result"
    }
   ],
   "source": [
    "look_back = 51  \n",
    "lstm = buildModel(look_back)\n",
    "lstm.fit([trainPrice,trainSentiment,trainPercentage],trainLabel,\n",
    "              epochs = 50, \n",
    "              batch_size = 64, \n",
    "              verbose = 1,\n",
    "              validation_split=0.1,\n",
    "              # callbacks=[TensorBoardColabCallback(tbc)], \n",
    "              shuffle=True)"
   ]
  },
  {
   "cell_type": "markdown",
   "metadata": {
    "colab_type": "text",
    "id": "LFlUbgoU6RQV"
   },
   "source": [
    "**Model summary :**"
   ]
  },
  {
   "cell_type": "code",
   "execution_count": 0,
   "metadata": {
    "colab": {
     "base_uri": "https://localhost:8080/",
     "height": 442
    },
    "colab_type": "code",
    "executionInfo": {
     "elapsed": 892350,
     "status": "ok",
     "timestamp": 1564722290636,
     "user": {
      "displayName": "Zichen Li",
      "photoUrl": "https://lh6.googleusercontent.com/-G9Y_cKgeVOc/AAAAAAAAAAI/AAAAAAAAADo/D8ud3av9gMo/s64/photo.jpg",
      "userId": "09393985127784237998"
     },
     "user_tz": -570
    },
    "id": "V2wzxuBB2BRl",
    "outputId": "5dda2df0-eef3-4677-cd1b-30b2d04dec57"
   },
   "outputs": [
    {
     "name": "stdout",
     "output_type": "stream",
     "text": [
      "__________________________________________________________________________________________________\n",
      "Layer (type)                    Output Shape         Param #     Connected to                     \n",
      "==================================================================================================\n",
      "price (InputLayer)              (None, 1, 51)        0                                            \n",
      "__________________________________________________________________________________________________\n",
      "sentiment (InputLayer)          (None, 51, 5)        0                                            \n",
      "__________________________________________________________________________________________________\n",
      "percentage (InputLayer)         (None, 1, 51)        0                                            \n",
      "__________________________________________________________________________________________________\n",
      "lstm_1 (LSTM)                   (None, 64)           29696       price[0][0]                      \n",
      "__________________________________________________________________________________________________\n",
      "lstm_2 (LSTM)                   (None, 64)           17920       sentiment[0][0]                  \n",
      "__________________________________________________________________________________________________\n",
      "lstm_3 (LSTM)                   (None, 64)           29696       percentage[0][0]                 \n",
      "__________________________________________________________________________________________________\n",
      "concatenate_1 (Concatenate)     (None, 192)          0           lstm_1[0][0]                     \n",
      "                                                                 lstm_2[0][0]                     \n",
      "                                                                 lstm_3[0][0]                     \n",
      "__________________________________________________________________________________________________\n",
      "output (Dense)                  (None, 4)            772         concatenate_1[0][0]              \n",
      "==================================================================================================\n",
      "Total params: 78,084\n",
      "Trainable params: 78,084\n",
      "Non-trainable params: 0\n",
      "__________________________________________________________________________________________________\n"
     ]
    }
   ],
   "source": [
    "lstm.summary()"
   ]
  },
  {
   "cell_type": "markdown",
   "metadata": {
    "colab_type": "text",
    "id": "89K-wCad7KJ0"
   },
   "source": [
    "# Evaluate the model with test set data we left unseen\n",
    "\n",
    "\n",
    "*   **class 0**:   price variation after 24 hours > 1.5%\n",
    "*   **class 1**:   0 <= price variation after 24 hours <= 1.5%\n",
    "*   **class 2**:   -1.5% <= price variation after 24 hours < 0\n",
    "*   **class 3**:   price variation after 24 hours < -1.5%\n",
    "\n",
    "\n",
    "\n"
   ]
  },
  {
   "cell_type": "code",
   "execution_count": 0,
   "metadata": {
    "colab": {
     "base_uri": "https://localhost:8080/",
     "height": 323
    },
    "colab_type": "code",
    "executionInfo": {
     "elapsed": 892700,
     "status": "ok",
     "timestamp": 1564722290627,
     "user": {
      "displayName": "Zichen Li",
      "photoUrl": "https://lh6.googleusercontent.com/-G9Y_cKgeVOc/AAAAAAAAAAI/AAAAAAAAADo/D8ud3av9gMo/s64/photo.jpg",
      "userId": "09393985127784237998"
     },
     "user_tz": -570
    },
    "id": "8Rclv6Nig8jr",
    "outputId": "481788b5-774f-4c66-95f3-e775068b0b17"
   },
   "outputs": [
    {
     "name": "stdout",
     "output_type": "stream",
     "text": [
      "6312/6312 [==============================] - 1s 225us/step\n",
      "Test set Loss: 0.668  Accuracy: 0.733\n",
      "\n",
      "\n",
      "1425\n",
      "1267\n",
      "1944\n",
      "1676\n",
      "\n",
      "1216\n",
      "1060\n",
      "1263\n",
      "1085\n",
      "\n",
      "accuracy for class 0:  0.8533333333333334\n",
      "accuracy for class 1:  0.8366219415943172\n",
      "accuracy for class 2:  0.6496913580246914\n",
      "accuracy for class 3:  0.6473747016706444\n"
     ]
    }
   ],
   "source": [
    "accr = lstm.evaluate([testPrice, testSentiment,testPercentage],testLabel)\n",
    "print('Test set Loss: {:0.3f}  Accuracy: {:0.3f}'.format(accr[0],accr[1]))\n",
    "print('\\n')\n",
    "\n",
    "labels = [0,1,2,3]; predict_label =[]; true_label=[];\n",
    "\n",
    "pred = lstm.predict([testPrice,testSentiment,testPercentage])\n",
    "\n",
    "for i in range(testPrice.shape[0]):\n",
    "  predict_label.append(labels[np.argmax(pred[i])]) \n",
    "  true_label.append(labels[np.argmax(testLabel[i])])\n",
    "  \n",
    "count0=0; count0_correct=0\n",
    "count1=0; count1_correct=0\n",
    "count2=0; count2_correct=0\n",
    "count3=0; count3_correct=0\n",
    "\n",
    "for i in range(len(predict_label)):\n",
    "  if (predict_label[i] ==0):\n",
    "    count0 =count0+1\n",
    "    if (predict_label[i] == true_label[i]):\n",
    "      count0_correct = count0_correct+1\n",
    "  elif (predict_label[i] ==1):\n",
    "    count1 = count1+1\n",
    "    if (predict_label[i] == true_label[i]):\n",
    "      count1_correct = count1_correct+1\n",
    "  elif (predict_label[i] ==2):\n",
    "    count2 = count2+1\n",
    "    if (predict_label[i] == true_label[i]):\n",
    "      count2_correct = count2_correct+1\n",
    "  elif (predict_label[i] ==3):\n",
    "    count3 = count3+1\n",
    "    if (predict_label[i] == true_label[i]):\n",
    "      count3_correct = count3_correct+1\n",
    "      \n",
    "print(count0)\n",
    "print(count1)\n",
    "print(count2)\n",
    "print(count3)\n",
    "print()\n",
    "print(count0_correct)\n",
    "print(count1_correct)\n",
    "print(count2_correct)\n",
    "print(count3_correct)\n",
    "print()\n",
    "print('accuracy for class 0: ', count0_correct/count0)\n",
    "print('accuracy for class 1: ', count1_correct/count1)\n",
    "print('accuracy for class 2: ', count2_correct/count2)\n",
    "print('accuracy for class 3: ', count3_correct/count3)"
   ]
  }
 ],
 "metadata": {
  "colab": {
   "collapsed_sections": [
    "ndr6YQSgsZZy",
    "11CuOWufx-6t",
    "ixCgIsD3zrfX",
    "8jgPm-2j4rha",
    "PiD039rl56Y-",
    "89K-wCad7KJ0"
   ],
   "name": "LSTM_ClassificationModel_Price+Sentiment+Percentage_24hour_1Layer.ipynb",
   "provenance": [],
   "version": "0.3.2"
  },
  "kernelspec": {
   "display_name": "Python 3",
   "language": "python",
   "name": "python3"
  },
  "language_info": {
   "codemirror_mode": {
    "name": "ipython",
    "version": 3
   },
   "file_extension": ".py",
   "mimetype": "text/x-python",
   "name": "python",
   "nbconvert_exporter": "python",
   "pygments_lexer": "ipython3",
   "version": "3.7.3"
  }
 },
 "nbformat": 4,
 "nbformat_minor": 1
}
