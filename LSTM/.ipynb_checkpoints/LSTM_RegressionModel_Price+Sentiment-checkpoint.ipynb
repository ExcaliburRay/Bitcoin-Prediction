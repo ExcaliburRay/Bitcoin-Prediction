{
 "cells": [
  {
   "cell_type": "markdown",
   "metadata": {
    "colab_type": "text",
    "id": "JHfVDntj-hPR"
   },
   "source": [
    "# This is the code for the best classification model we've trained:\n",
    "*   LSTM mdoel with one hidden layer\n",
    "*   Two inputs: price, sentiment \n",
    "*   We use TensorBoard to track and visualize the performance metrics such as loss and accuracy. We've commented out the codes for connecting with TensorBoard because they only work in **Google Colab** environment. If you are using **Jupyter**, here is the link for setting up TensorBoard: https://www.tensorflow.org/tensorboard/r2/tensorboard_in_notebooks\n",
    "\n"
   ]
  },
  {
   "cell_type": "code",
   "execution_count": 0,
   "metadata": {
    "colab": {},
    "colab_type": "code",
    "id": "b2cA-_wT7YFi"
   },
   "outputs": [],
   "source": [
    "from math import sqrt\n",
    "from numpy import concatenate\n",
    "from matplotlib import pyplot\n",
    "import pandas as pd\n",
    "from datetime import datetime\n",
    "from sklearn.preprocessing import MinMaxScaler\n",
    "from sklearn.preprocessing import LabelEncoder\n",
    "from sklearn.metrics import mean_squared_error\n",
    "from keras.utils import to_categorical\n",
    "import keras\n",
    "from keras.layers import Input, Embedding, LSTM, Dense\n",
    "from keras.models import Model\n",
    "from keras.models import Sequential\n",
    "from keras.layers import Dense\n",
    "from keras.layers import LSTM\n",
    "from keras.layers import GRU\n",
    "import numpy as np"
   ]
  },
  {
   "cell_type": "code",
   "execution_count": 0,
   "metadata": {
    "colab": {},
    "colab_type": "code",
    "id": "1h3oL4-h3uQz"
   },
   "outputs": [],
   "source": [
    "import pandas as pd\n",
    "data =  pd.read_csv('price_emotion_labeled.csv')\n",
    "data['Date']=pd.to_datetime(data['Date'])\n",
    "data = data.sort_values(['Date'], ascending=[True])\n",
    "\n",
    "price = data[['Date','Close']].copy()\n",
    "sentiment = data[['Average_Anger','Average_Joy','Average_Sadness','Average_Fear','Average_Disgust']].copy()\n",
    "price = price[['Close']].copy()"
   ]
  },
  {
   "cell_type": "markdown",
   "metadata": {
    "colab_type": "text",
    "id": "QKTwHc3x-c0V"
   },
   "source": [
    "# Reshape the data and split data into train set and test set"
   ]
  },
  {
   "cell_type": "code",
   "execution_count": 0,
   "metadata": {
    "colab": {},
    "colab_type": "code",
    "id": "MvqTHyGt3uQ2"
   },
   "outputs": [],
   "source": [
    "datalength = data.shape[0]\n",
    "\n",
    "# Scaled the input into normalize vector\n",
    "scaler_value = MinMaxScaler(feature_range=(0, 1))\n",
    "\n",
    "values = data['Close'].values.reshape(datalength,1)\n",
    "values = values.astype('float32')\n",
    "values = scaler_value.fit_transform(values)\n",
    "values = values.reshape(datalength,1,1)\n",
    "\n",
    "scaler_sentiment = MinMaxScaler(feature_range=(0,1))\n",
    "sentiments = sentiment.values\n",
    "sentiments = scaler_sentiment.fit_transform(sentiments)\n",
    "sentiments = sentiments.reshape(datalength,1,5) # Five sentiment features"
   ]
  },
  {
   "cell_type": "code",
   "execution_count": 0,
   "metadata": {
    "colab": {
     "base_uri": "https://localhost:8080/",
     "height": 51
    },
    "colab_type": "code",
    "executionInfo": {
     "elapsed": 15218,
     "status": "ok",
     "timestamp": 1564573161903,
     "user": {
      "displayName": "Shin-Yu Wu",
      "photoUrl": "",
      "userId": "00193555964261481197"
     },
     "user_tz": -570
    },
    "id": "ST2kzPKx3uQ4",
    "outputId": "5ffe3264-d1b2-4881-a216-5b80442eab88"
   },
   "outputs": [
    {
     "name": "stdout",
     "output_type": "stream",
     "text": [
      "20388 8738\n",
      "20388 8738\n"
     ]
    }
   ],
   "source": [
    "# Split train data and test data\n",
    "train_size = int(len(values) * 0.7)\n",
    "test_size = len(values) - train_size\n",
    "trainP, testP = values[0:train_size,:,:], values[train_size:len(values),:,:]\n",
    "\n",
    "trainS,testS = sentiments[0:train_size,:,:], sentiments[train_size:len(values),:,:]\n",
    "print(len(trainP), len(testP))\n",
    "print(len(trainS), len(testS))\n",
    "split = train_size"
   ]
  },
  {
   "cell_type": "markdown",
   "metadata": {
    "colab_type": "text",
    "id": "5JLrh_Jj-c0b"
   },
   "source": [
    "# Prepare the input vector with n time look back "
   ]
  },
  {
   "cell_type": "code",
   "execution_count": 0,
   "metadata": {
    "colab": {},
    "colab_type": "code",
    "id": "JrYDZeyK3uQ7"
   },
   "outputs": [],
   "source": [
    "def create_dataset(dataset, look_back):\n",
    "    dataX, dataY = [], []\n",
    "    for i in range(look_back, len(dataset)):\n",
    "        a = dataset[i-look_back : i, 0]\n",
    "        dataX.append(a)\n",
    "        dataY.append(dataset[i , 0])\n",
    "    print(len(dataY))\n",
    "    return np.array(dataX), np.array(dataY)"
   ]
  },
  {
   "cell_type": "markdown",
   "metadata": {
    "colab_type": "text",
    "id": "LYRGclEs7PJy"
   },
   "source": [
    "## Lag = 51\n",
    "Assume the past 51 hours (t-51) price will affect the price in time t"
   ]
  },
  {
   "cell_type": "code",
   "execution_count": 0,
   "metadata": {
    "colab": {
     "base_uri": "https://localhost:8080/",
     "height": 85
    },
    "colab_type": "code",
    "executionInfo": {
     "elapsed": 15189,
     "status": "ok",
     "timestamp": 1564573161904,
     "user": {
      "displayName": "Shin-Yu Wu",
      "photoUrl": "",
      "userId": "00193555964261481197"
     },
     "user_tz": -570
    },
    "id": "SShT3TxA3uQ-",
    "outputId": "2cfcda00-aa9b-49fe-edc0-017ccd29eb97"
   },
   "outputs": [
    {
     "name": "stdout",
     "output_type": "stream",
     "text": [
      "20337\n",
      "8687\n",
      "20337\n",
      "8687\n"
     ]
    }
   ],
   "source": [
    "look_back_51 = 51\n",
    "\n",
    "trainX,trainY = create_dataset(trainP,look_back_51)\n",
    "testX,testY = create_dataset(testP,look_back_51)\n",
    "\n",
    "trainS,trains = create_dataset(trainS,look_back_51)\n",
    "testS,tests = create_dataset(testS,look_back_51)"
   ]
  },
  {
   "cell_type": "code",
   "execution_count": 0,
   "metadata": {
    "colab": {},
    "colab_type": "code",
    "id": "Ze00YRyS3uRB"
   },
   "outputs": [],
   "source": [
    "trainX = np.reshape(trainX, (trainX.shape[0],1, trainX.shape[1]))\n",
    "testX = np.reshape(testX, (testX.shape[0],1, testX.shape[1]))\n",
    "\n",
    "trainY = np.reshape(trainY,(trainY.shape[0],1))"
   ]
  },
  {
   "cell_type": "markdown",
   "metadata": {
    "colab_type": "text",
    "id": "i6vQE7EW-c0i"
   },
   "source": [
    "# 1 Layer, Epoch=50, Price+Sentiment"
   ]
  },
  {
   "cell_type": "code",
   "execution_count": 0,
   "metadata": {
    "colab": {},
    "colab_type": "code",
    "id": "2qSwEa4r3uRD"
   },
   "outputs": [],
   "source": [
    "import keras\n",
    "# Train the model with lag=51\n",
    "def buildModel_lag51(dataLength, labelLength):\n",
    "    price=Input(shape=(dataLength, 51),name='price') \n",
    "    sentiment = Input(shape=(51, 5),name='sentiment')\n",
    "    \n",
    "    priceLayers = LSTM(64, return_sequences=False)(price)\n",
    "    sentimentLayers = LSTM(64, return_sequences=False)(sentiment)\n",
    "    \n",
    "    output = keras.layers.concatenate(\n",
    "        [priceLayers,sentimentLayers,]\n",
    "    )\n",
    "    output = Dense(labelLength, activation='sigmoid',name='output')(output)\n",
    "    \n",
    "    model = Model(\n",
    "        inputs = [price,sentiment],\n",
    "        outputs=[output]\n",
    "    )\n",
    "    model.compile(optimizer='adam',loss='mse')\n",
    "    return model\n",
    "\n",
    "import math\n",
    "def predict_and_score_mixed(model, X1, X2, Y):\n",
    "    # Make predictions on the original scale of the data.\n",
    "    pred = model.predict([X1, X2])\n",
    "    # Prepare Y data to also be on the original scale for interpretability.\n",
    "    orig_data = [Y]\n",
    "    # Calculate RMSE.\n",
    "    score = math.sqrt(mean_squared_error(orig_data[0], pred[:, 0]))\n",
    "    return(score, pred)"
   ]
  },
  {
   "cell_type": "code",
   "execution_count": 0,
   "metadata": {
    "colab": {
     "base_uri": "https://localhost:8080/",
     "height": 68
    },
    "colab_type": "code",
    "executionInfo": {
     "elapsed": 15449,
     "status": "ok",
     "timestamp": 1564573162214,
     "user": {
      "displayName": "Shin-Yu Wu",
      "photoUrl": "",
      "userId": "00193555964261481197"
     },
     "user_tz": -570
    },
    "id": "KDu9Bqara-Y3",
    "outputId": "0f58208a-28b7-45fc-c61c-50d3bd62ea50"
   },
   "outputs": [
    {
     "name": "stdout",
     "output_type": "stream",
     "text": [
      "(20337, 1, 51)\n",
      "(20337, 51, 5)\n",
      "(20337, 1)\n"
     ]
    }
   ],
   "source": [
    "print(trainX.shape)\n",
    "print(trainS.shape)\n",
    "print(trainY.shape)"
   ]
  },
  {
   "cell_type": "code",
   "execution_count": 0,
   "metadata": {
    "colab": {
     "base_uri": "https://localhost:8080/",
     "height": 1000
    },
    "colab_type": "code",
    "executionInfo": {
     "elapsed": 1139818,
     "status": "ok",
     "timestamp": 1564574286604,
     "user": {
      "displayName": "Shin-Yu Wu",
      "photoUrl": "",
      "userId": "00193555964261481197"
     },
     "user_tz": -570
    },
    "id": "oFwiHsTt3uRF",
    "outputId": "0d71e4ed-5fe2-4eec-aca6-b98e2ab7d82e"
   },
   "outputs": [
    {
     "name": "stderr",
     "output_type": "stream",
     "text": [
      "WARNING: Logging before flag parsing goes to stderr.\n",
      "W0801 22:11:47.715224 140735796573056 deprecation_wrapper.py:119] From /Library/Frameworks/Python.framework/Versions/3.7/lib/python3.7/site-packages/keras/backend/tensorflow_backend.py:517: The name tf.placeholder is deprecated. Please use tf.compat.v1.placeholder instead.\n",
      "\n",
      "W0801 22:11:47.728894 140735796573056 deprecation_wrapper.py:119] From /Library/Frameworks/Python.framework/Versions/3.7/lib/python3.7/site-packages/keras/backend/tensorflow_backend.py:74: The name tf.get_default_graph is deprecated. Please use tf.compat.v1.get_default_graph instead.\n",
      "\n",
      "W0801 22:11:47.730189 140735796573056 deprecation_wrapper.py:119] From /Library/Frameworks/Python.framework/Versions/3.7/lib/python3.7/site-packages/keras/backend/tensorflow_backend.py:4138: The name tf.random_uniform is deprecated. Please use tf.random.uniform instead.\n",
      "\n",
      "W0801 22:11:48.076592 140735796573056 deprecation_wrapper.py:119] From /Library/Frameworks/Python.framework/Versions/3.7/lib/python3.7/site-packages/keras/optimizers.py:790: The name tf.train.Optimizer is deprecated. Please use tf.compat.v1.train.Optimizer instead.\n",
      "\n",
      "W0801 22:11:48.346842 140735796573056 deprecation.py:323] From /Library/Frameworks/Python.framework/Versions/3.7/lib/python3.7/site-packages/tensorflow/python/ops/math_grad.py:1250: add_dispatch_support.<locals>.wrapper (from tensorflow.python.ops.array_ops) is deprecated and will be removed in a future version.\n",
      "Instructions for updating:\n",
      "Use tf.where in 2.0, which has the same broadcast rule as np.where\n",
      "W0801 22:11:49.263617 140735796573056 deprecation_wrapper.py:119] From /Library/Frameworks/Python.framework/Versions/3.7/lib/python3.7/site-packages/keras/backend/tensorflow_backend.py:986: The name tf.assign_add is deprecated. Please use tf.compat.v1.assign_add instead.\n",
      "\n",
      "W0801 22:11:49.368494 140735796573056 deprecation_wrapper.py:119] From /Library/Frameworks/Python.framework/Versions/3.7/lib/python3.7/site-packages/keras/backend/tensorflow_backend.py:973: The name tf.assign is deprecated. Please use tf.compat.v1.assign instead.\n",
      "\n"
     ]
    },
    {
     "name": "stdout",
     "output_type": "stream",
     "text": [
      "Train on 18303 samples, validate on 2034 samples\n",
      "Epoch 1/50\n",
      "18303/18303 [==============================] - 23s 1ms/step - loss: 0.0058 - val_loss: 0.0022\n",
      "Epoch 2/50\n",
      "18303/18303 [==============================] - 21s 1ms/step - loss: 2.4750e-04 - val_loss: 7.6901e-04\n",
      "Epoch 3/50\n",
      "18303/18303 [==============================] - 20s 1ms/step - loss: 1.5340e-04 - val_loss: 5.3088e-04\n",
      "Epoch 4/50\n",
      "18303/18303 [==============================] - 20s 1ms/step - loss: 1.2253e-04 - val_loss: 5.2203e-04\n",
      "Epoch 5/50\n",
      "18303/18303 [==============================] - 19s 1ms/step - loss: 1.0621e-04 - val_loss: 4.0308e-04\n",
      "Epoch 6/50\n",
      "18303/18303 [==============================] - 19s 1ms/step - loss: 8.4558e-05 - val_loss: 8.1284e-04\n",
      "Epoch 7/50\n",
      "18303/18303 [==============================] - 20s 1ms/step - loss: 8.5341e-05 - val_loss: 2.4934e-04\n",
      "Epoch 8/50\n",
      "18303/18303 [==============================] - 19s 1ms/step - loss: 7.7666e-05 - val_loss: 3.1127e-04\n",
      "Epoch 9/50\n",
      "18303/18303 [==============================] - 19s 1ms/step - loss: 8.0673e-05 - val_loss: 2.6368e-04\n",
      "Epoch 10/50\n",
      "18303/18303 [==============================] - 19s 1ms/step - loss: 6.7144e-05 - val_loss: 2.4337e-04\n",
      "Epoch 11/50\n",
      "18303/18303 [==============================] - 19s 1ms/step - loss: 6.4120e-05 - val_loss: 2.9159e-04\n",
      "Epoch 12/50\n",
      "18303/18303 [==============================] - 19s 1ms/step - loss: 5.4905e-05 - val_loss: 2.5087e-04\n",
      "Epoch 13/50\n",
      "18303/18303 [==============================] - 19s 1ms/step - loss: 6.0885e-05 - val_loss: 2.6538e-04\n",
      "Epoch 14/50\n",
      "18303/18303 [==============================] - 19s 1ms/step - loss: 5.9559e-05 - val_loss: 2.2827e-04\n",
      "Epoch 15/50\n",
      "18303/18303 [==============================] - 19s 1ms/step - loss: 5.2521e-05 - val_loss: 1.9896e-04\n",
      "Epoch 16/50\n",
      "18303/18303 [==============================] - 19s 1ms/step - loss: 5.5114e-05 - val_loss: 2.2864e-04\n",
      "Epoch 17/50\n",
      "18303/18303 [==============================] - 19s 1ms/step - loss: 5.2623e-05 - val_loss: 3.0685e-04\n",
      "Epoch 18/50\n",
      "18303/18303 [==============================] - 19s 1ms/step - loss: 5.0643e-05 - val_loss: 2.2067e-04\n",
      "Epoch 19/50\n",
      "18303/18303 [==============================] - 19s 1ms/step - loss: 5.2389e-05 - val_loss: 1.9349e-04\n",
      "Epoch 20/50\n",
      "18303/18303 [==============================] - 19s 1ms/step - loss: 4.7234e-05 - val_loss: 1.8442e-04\n",
      "Epoch 21/50\n",
      "18303/18303 [==============================] - 19s 1ms/step - loss: 4.6184e-05 - val_loss: 2.9289e-04\n",
      "Epoch 22/50\n",
      "18303/18303 [==============================] - 19s 1ms/step - loss: 4.4312e-05 - val_loss: 1.6472e-04\n",
      "Epoch 23/50\n",
      "18303/18303 [==============================] - 19s 1ms/step - loss: 4.4376e-05 - val_loss: 1.9095e-04\n",
      "Epoch 24/50\n",
      "18303/18303 [==============================] - 19s 1ms/step - loss: 4.2602e-05 - val_loss: 2.4549e-04\n",
      "Epoch 25/50\n",
      "18303/18303 [==============================] - 20s 1ms/step - loss: 4.0573e-05 - val_loss: 2.4215e-04\n",
      "Epoch 26/50\n",
      "18303/18303 [==============================] - 20s 1ms/step - loss: 4.1868e-05 - val_loss: 1.5690e-04\n",
      "Epoch 27/50\n",
      "18303/18303 [==============================] - 21s 1ms/step - loss: 4.0655e-05 - val_loss: 3.5518e-04\n",
      "Epoch 28/50\n",
      "18303/18303 [==============================] - 22s 1ms/step - loss: 4.6339e-05 - val_loss: 5.2948e-04\n",
      "Epoch 29/50\n",
      "18303/18303 [==============================] - 20s 1ms/step - loss: 4.7214e-05 - val_loss: 1.6913e-04\n",
      "Epoch 30/50\n",
      "18303/18303 [==============================] - 21s 1ms/step - loss: 4.4548e-05 - val_loss: 1.4119e-04\n",
      "Epoch 31/50\n",
      "18303/18303 [==============================] - 19s 1ms/step - loss: 3.9015e-05 - val_loss: 1.5034e-04\n",
      "Epoch 32/50\n",
      "18303/18303 [==============================] - 19s 1ms/step - loss: 4.1132e-05 - val_loss: 2.0736e-04\n",
      "Epoch 33/50\n",
      "18303/18303 [==============================] - 19s 1ms/step - loss: 3.7331e-05 - val_loss: 1.2811e-04\n",
      "Epoch 34/50\n",
      "18303/18303 [==============================] - 19s 1ms/step - loss: 4.6372e-05 - val_loss: 1.8662e-04\n",
      "Epoch 35/50\n",
      "18303/18303 [==============================] - 19s 1ms/step - loss: 4.0713e-05 - val_loss: 8.4925e-04\n",
      "Epoch 36/50\n",
      "18303/18303 [==============================] - 19s 1ms/step - loss: 3.8374e-05 - val_loss: 2.3444e-04\n",
      "Epoch 37/50\n",
      "18303/18303 [==============================] - 19s 1ms/step - loss: 3.7956e-05 - val_loss: 5.7789e-04\n",
      "Epoch 38/50\n",
      "18303/18303 [==============================] - 19s 1ms/step - loss: 4.1392e-05 - val_loss: 1.4450e-04\n",
      "Epoch 39/50\n",
      "18303/18303 [==============================] - 19s 1ms/step - loss: 3.6343e-05 - val_loss: 1.2989e-04\n",
      "Epoch 40/50\n",
      "18303/18303 [==============================] - 19s 1ms/step - loss: 3.9551e-05 - val_loss: 1.1838e-04\n",
      "Epoch 41/50\n",
      "18303/18303 [==============================] - 19s 1ms/step - loss: 3.7131e-05 - val_loss: 1.5388e-04\n",
      "Epoch 42/50\n",
      "18303/18303 [==============================] - 19s 1ms/step - loss: 3.6544e-05 - val_loss: 3.4393e-04\n",
      "Epoch 43/50\n",
      "18303/18303 [==============================] - 20s 1ms/step - loss: 4.3048e-05 - val_loss: 2.5409e-04\n",
      "Epoch 44/50\n",
      "18303/18303 [==============================] - 19s 1ms/step - loss: 3.3795e-05 - val_loss: 2.9295e-04\n",
      "Epoch 45/50\n",
      "18303/18303 [==============================] - 19s 1ms/step - loss: 3.3917e-05 - val_loss: 1.2950e-04\n",
      "Epoch 46/50\n",
      "18303/18303 [==============================] - 19s 1ms/step - loss: 3.3949e-05 - val_loss: 1.2251e-04\n",
      "Epoch 47/50\n",
      "18303/18303 [==============================] - 19s 1ms/step - loss: 3.6642e-05 - val_loss: 5.9942e-04\n",
      "Epoch 48/50\n",
      "18303/18303 [==============================] - 19s 1ms/step - loss: 3.5017e-05 - val_loss: 1.1095e-04\n",
      "Epoch 49/50\n",
      "18303/18303 [==============================] - 19s 1ms/step - loss: 4.2487e-05 - val_loss: 1.2551e-04\n",
      "Epoch 50/50\n",
      "18303/18303 [==============================] - 20s 1ms/step - loss: 3.4868e-05 - val_loss: 2.0886e-04\n"
     ]
    },
    {
     "data": {
      "text/plain": [
       "<keras.callbacks.History at 0x13d42e7d0>"
      ]
     },
     "execution_count": 10,
     "metadata": {
      "tags": []
     },
     "output_type": "execute_result"
    }
   ],
   "source": [
    "from keras.layers import Input, Embedding, LSTM, Dense\n",
    "from keras.models import Model\n",
    "\n",
    "lstm_lag51 = buildModel_lag51(1,1)\n",
    "\n",
    "lstm_lag51.fit([trainX,trainS],[trainY],\n",
    "              epochs = 50, \n",
    "              verbose = 1,\n",
    "              validation_split=0.1,\n",
    "              shuffle=True)"
   ]
  },
  {
   "cell_type": "code",
   "execution_count": 0,
   "metadata": {
    "colab": {
     "base_uri": "https://localhost:8080/",
     "height": 51
    },
    "colab_type": "code",
    "executionInfo": {
     "elapsed": 1145822,
     "status": "ok",
     "timestamp": 1564574292624,
     "user": {
      "displayName": "Shin-Yu Wu",
      "photoUrl": "",
      "userId": "00193555964261481197"
     },
     "user_tz": -570
    },
    "id": "9XZkjlX_3uRJ",
    "outputId": "5578a0f8-1cb3-4bde-954a-fa17a44500ad"
   },
   "outputs": [
    {
     "name": "stdout",
     "output_type": "stream",
     "text": [
      "Training data score: 0.01 RMSE\n",
      "Test data score: 0.01 RMSE\n"
     ]
    }
   ],
   "source": [
    "import math\n",
    "rmse_train, train_predict = predict_and_score_mixed(lstm_lag51, trainX, trainS, trainY)\n",
    "rmse_test, test_predict = predict_and_score_mixed(lstm_lag51, testX, testS, testY)\n",
    "\n",
    "print(\"Training data score: %.2f RMSE\" % rmse_train)\n",
    "print(\"Test data score: %.2f RMSE\" % rmse_test)"
   ]
  },
  {
   "cell_type": "code",
   "execution_count": 0,
   "metadata": {
    "colab": {
     "base_uri": "https://localhost:8080/",
     "height": 34
    },
    "colab_type": "code",
    "executionInfo": {
     "elapsed": 1145803,
     "status": "ok",
     "timestamp": 1564574292624,
     "user": {
      "displayName": "Shin-Yu Wu",
      "photoUrl": "",
      "userId": "00193555964261481197"
     },
     "user_tz": -570
    },
    "id": "lyZJDOz_3uRN",
    "outputId": "9def474e-fa36-4cee-e462-1fdd5e5b559e"
   },
   "outputs": [
    {
     "name": "stdout",
     "output_type": "stream",
     "text": [
      "143.76821895415551\n"
     ]
    }
   ],
   "source": [
    "inverse_test_predict = scaler_value.inverse_transform(test_predict.reshape(-1, 1))\n",
    "inverse_test_actual = scaler_value.inverse_transform(testY.reshape(-1, 1))\n",
    "print(math.sqrt(mean_squared_error(inverse_test_actual, inverse_test_predict)))"
   ]
  },
  {
   "cell_type": "code",
   "execution_count": 0,
   "metadata": {
    "colab": {
     "base_uri": "https://localhost:8080/",
     "height": 350
    },
    "colab_type": "code",
    "executionInfo": {
     "elapsed": 1146359,
     "status": "ok",
     "timestamp": 1564574293196,
     "user": {
      "displayName": "Shin-Yu Wu",
      "photoUrl": "",
      "userId": "00193555964261481197"
     },
     "user_tz": -570
    },
    "id": "_3O2qDw53uRQ",
    "outputId": "e35f08a4-d7cc-491c-c922-29fff816c1e3"
   },
   "outputs": [
    {
     "data": {
      "image/png": "[encoded data removed]",
      "text/plain": [
       "<Figure size 720x360 with 1 Axes>"
      ]
     },
     "metadata": {
      "needs_background": "light",
      "tags": []
     },
     "output_type": "display_data"
    }
   ],
   "source": [
    "import matplotlib.pyplot as plt\n",
    "# Start with training predictions.\n",
    "train_predict_plot = np.empty_like(price)\n",
    "train_predict_plot[:, :] = np.nan\n",
    "train_predict_plot[look_back_51:len(train_predict) + look_back_51, :] = scaler_value.inverse_transform(train_predict.reshape(-1, 1))\n",
    "#inverse the normalization value back \n",
    "\n",
    "# Add test predictions.\n",
    "test_predict_plot = np.empty_like(price)\n",
    "test_predict_plot[:, :] = np.nan\n",
    "test_predict_plot[len(train_predict) + look_back_51*2:len(price), :] = scaler_value.inverse_transform(test_predict.reshape(-1, 1))\n",
    "\n",
    "# Create the plot.\n",
    "price = data[['Date','Close']].copy()\n",
    "price = price[['Close']].copy()\n",
    "price = price.values\n",
    "\n",
    "plt.figure(figsize = (10, 5))\n",
    "plt.plot(price, label = \"True value\")\n",
    "plt.plot(train_predict_plot, label = \"Training set prediction\")\n",
    "plt.plot(test_predict_plot, label = \"Test set prediction\")\n",
    "plt.xlabel(\"Date\")\n",
    "plt.ylabel(\"Bitcoin Price\")\n",
    "plt.title(\"Comparison true vs. predicted training / test\")\n",
    "plt.legend()\n",
    "# plt.xlim(26000,26100)\n",
    "# plt.ylim(2000,7500)\n",
    "plt.show()"
   ]
  },
  {
   "cell_type": "code",
   "execution_count": 0,
   "metadata": {
    "colab": {
     "base_uri": "https://localhost:8080/",
     "height": 34
    },
    "colab_type": "code",
    "executionInfo": {
     "elapsed": 1146725,
     "status": "ok",
     "timestamp": 1564574293580,
     "user": {
      "displayName": "Shin-Yu Wu",
      "photoUrl": "",
      "userId": "00193555964261481197"
     },
     "user_tz": -570
    },
    "id": "8nZxIy9D3uRT",
    "outputId": "b61398fc-60b9-489b-f85e-d70ac1e27028"
   },
   "outputs": [
    {
     "name": "stdout",
     "output_type": "stream",
     "text": [
      "125.93818688177377\n"
     ]
    }
   ],
   "source": [
    "total_length = price.shape[0]\n",
    "arr = np.empty((0,1), float)\n",
    "arr_percent = np.empty((0,1), float)\n",
    "\n",
    "for i in range(trainX.shape[0]+look_back_51*2,total_length):\n",
    "    arr = np.append(arr,price[i]-test_predict_plot[i].flatten())\n",
    "    arr_percent = np.append(arr_percent,((price[i]-test_predict_plot[i])).flatten())\n",
    "\n",
    "evl_lag51 = pd.DataFrame({'Difference': arr.flatten(),\n",
    "                  'Percentage':arr_percent.flatten()})\n",
    "print(abs(evl_lag51[\"Difference\"]).mean()) \n",
    "# Show the average absolute difference between actual price and predict price"
   ]
  },
  {
   "cell_type": "code",
   "execution_count": 0,
   "metadata": {
    "colab": {},
    "colab_type": "code",
    "id": "yeEmlHXv3uRW"
   },
   "outputs": [],
   "source": []
  }
 ],
 "metadata": {
  "colab": {
   "collapsed_sections": [],
   "name": "LSTM_RegressionModel_Price+Sentiment.ipynb",
   "provenance": [],
   "version": "0.3.2"
  },
  "kernelspec": {
   "display_name": "Python 3",
   "language": "python",
   "name": "python3"
  },
  "language_info": {
   "codemirror_mode": {
    "name": "ipython",
    "version": 3
   },
   "file_extension": ".py",
   "mimetype": "text/x-python",
   "name": "python",
   "nbconvert_exporter": "python",
   "pygments_lexer": "ipython3",
   "version": "3.7.3"
  }
 },
 "nbformat": 4,
 "nbformat_minor": 1
}
