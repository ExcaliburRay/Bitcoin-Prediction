{
 "cells": [
  {
   "cell_type": "markdown",
   "metadata": {},
   "source": [
    "### read sentiment data and merge with post information"
   ]
  },
  {
   "cell_type": "code",
   "execution_count": 1,
   "metadata": {},
   "outputs": [
    {
     "name": "stdout",
     "output_type": "stream",
     "text": [
      "(389494, 6)\n"
     ]
    }
   ],
   "source": [
    "import glob\n",
    "import pandas as pd\n",
    "\n",
    "sentiments_api = pd.DataFrame({\n",
    "    '0':[],\n",
    "    '1':[],\n",
    "    '2':[],\n",
    "    '3':[],\n",
    "    '4':[],\n",
    "    '5':[]\n",
    "})\n",
    "\n",
    "for n in range(len(glob.glob('./Reddit_post_api/*.csv'))):\n",
    "    df = pd.read_csv(glob.glob('./Reddit_post_api/*.csv')[n])\n",
    "    sentiments_api = pd.concat( [sentiments_api, df], axis=0)\n",
    "    \n",
    "print(sentiments_api.shape)\n",
    "sentiments_api.columns = ['post_id','anger','joy','sadness','fear','disgust']"
   ]
  },
  {
   "cell_type": "code",
   "execution_count": 2,
   "metadata": {},
   "outputs": [
    {
     "name": "stdout",
     "output_type": "stream",
     "text": [
      "(389494, 9)\n"
     ]
    }
   ],
   "source": [
    "post = pd.read_csv('processed_reddit_post_vadder.csv')\n",
    "print(post.shape)\n",
    "#print(post[:6])"
   ]
  },
  {
   "cell_type": "code",
   "execution_count": 3,
   "metadata": {},
   "outputs": [],
   "source": [
    "merged_post = pd.merge(post, sentiments_api, how='left', on=['post_id'])"
   ]
  },
  {
   "cell_type": "code",
   "execution_count": 5,
   "metadata": {},
   "outputs": [],
   "source": [
    "del merged_post['text']\n",
    "del merged_post['num_comments']\n",
    "del merged_post['sentiment_vader']\n",
    "del merged_post['score']"
   ]
  },
  {
   "cell_type": "markdown",
   "metadata": {},
   "source": [
    "### find posts before 2018-04-24 01:30:00 "
   ]
  },
  {
   "cell_type": "code",
   "execution_count": 20,
   "metadata": {},
   "outputs": [
    {
     "data": {
      "text/plain": [
       "['2016-04-21 19:00:00',\n",
       " '2016-04-24 22:00:00',\n",
       " '2016-04-22 04:00:00',\n",
       " '2016-04-23 04:00:00',\n",
       " '2016-04-25 04:00:00',\n",
       " '2016-04-08 07:00:00',\n",
       " '2016-04-14 11:00:00',\n",
       " '2016-04-15 00:00:00',\n",
       " '2016-04-18 20:00:00',\n",
       " '2016-04-25 01:00:00']"
      ]
     },
     "execution_count": 20,
     "metadata": {},
     "output_type": "execute_result"
    }
   ],
   "source": [
    "all_timestamp[30:40]"
   ]
  },
  {
   "cell_type": "code",
   "execution_count": 21,
   "metadata": {},
   "outputs": [],
   "source": [
    "all_timestamp = merged_post['timestamp'].values.tolist()\n",
    "train_timestamp_index = []\n",
    "for i in range(len(all_timestamp)):\n",
    "    if int(all_timestamp[i][:4]) < 2018:\n",
    "        train_timestamp_index.append(i)\n",
    "    elif (all_timestamp[i][:4] == '2018') and (int(all_timestamp[i][6]) < 4):\n",
    "        train_timestamp_index.append(i)\n",
    "    elif (all_timestamp[i][:7] == '2018-04') and (int(all_timestamp[i][8:10]) < 24):\n",
    "        train_timestamp_index.append(i)\n",
    "    elif (all_timestamp[i][:13] == '2018-04-24 00') or (all_timestamp[i][:13] == '2018-04-24 01'):\n",
    "        train_timestamp_index.append(i)"
   ]
  },
  {
   "cell_type": "code",
   "execution_count": 24,
   "metadata": {},
   "outputs": [
    {
     "data": {
      "text/plain": [
       "329079"
      ]
     },
     "execution_count": 24,
     "metadata": {},
     "output_type": "execute_result"
    }
   ],
   "source": [
    "len(train_timestamp_index)"
   ]
  },
  {
   "cell_type": "code",
   "execution_count": 25,
   "metadata": {},
   "outputs": [],
   "source": [
    "train_merged_post = merged_post.loc[train_timestamp_index,:]"
   ]
  },
  {
   "cell_type": "code",
   "execution_count": 26,
   "metadata": {},
   "outputs": [
    {
     "data": {
      "text/plain": [
       "(329079, 10)"
      ]
     },
     "execution_count": 26,
     "metadata": {},
     "output_type": "execute_result"
    }
   ],
   "source": [
    "train_merged_post.shape"
   ]
  },
  {
   "cell_type": "markdown",
   "metadata": {},
   "source": [
    "### add a column to notify which sentiment has highest value\n",
    "#### 'Positive' represents for joy; 'Negative' represents for anger, sadness, fear and disgust"
   ]
  },
  {
   "cell_type": "code",
   "execution_count": 27,
   "metadata": {},
   "outputs": [],
   "source": [
    "train_merged_post['max_sentiment'] = '0'"
   ]
  },
  {
   "cell_type": "code",
   "execution_count": 38,
   "metadata": {},
   "outputs": [
    {
     "data": {
      "text/html": [
       "<div>\n",
       "<style scoped>\n",
       "    .dataframe tbody tr th:only-of-type {\n",
       "        vertical-align: middle;\n",
       "    }\n",
       "\n",
       "    .dataframe tbody tr th {\n",
       "        vertical-align: top;\n",
       "    }\n",
       "\n",
       "    .dataframe thead th {\n",
       "        text-align: right;\n",
       "    }\n",
       "</style>\n",
       "<table border=\"1\" class=\"dataframe\">\n",
       "  <thead>\n",
       "    <tr style=\"text-align: right;\">\n",
       "      <th></th>\n",
       "      <th>Unnamed: 0</th>\n",
       "      <th>post_id</th>\n",
       "      <th>post_author</th>\n",
       "      <th>post_score</th>\n",
       "      <th>timestamp</th>\n",
       "      <th>anger</th>\n",
       "      <th>joy</th>\n",
       "      <th>sadness</th>\n",
       "      <th>fear</th>\n",
       "      <th>disgust</th>\n",
       "      <th>max_sentiment</th>\n",
       "    </tr>\n",
       "  </thead>\n",
       "  <tbody>\n",
       "    <tr>\n",
       "      <th>5</th>\n",
       "      <td>5</td>\n",
       "      <td>4dmftl</td>\n",
       "      <td>mkabatek</td>\n",
       "      <td>143</td>\n",
       "      <td>2016-04-07 02:00:00</td>\n",
       "      <td>0.017638</td>\n",
       "      <td>0.013868</td>\n",
       "      <td>0.017937</td>\n",
       "      <td>0.019820</td>\n",
       "      <td>0.017834</td>\n",
       "      <td>0</td>\n",
       "    </tr>\n",
       "    <tr>\n",
       "      <th>6</th>\n",
       "      <td>6</td>\n",
       "      <td>4gue65</td>\n",
       "      <td>Galwoa</td>\n",
       "      <td>194</td>\n",
       "      <td>2016-04-29 01:00:00</td>\n",
       "      <td>0.022014</td>\n",
       "      <td>0.011442</td>\n",
       "      <td>0.018262</td>\n",
       "      <td>0.023088</td>\n",
       "      <td>0.022474</td>\n",
       "      <td>0</td>\n",
       "    </tr>\n",
       "    <tr>\n",
       "      <th>7</th>\n",
       "      <td>7</td>\n",
       "      <td>4gjthm</td>\n",
       "      <td>Coinosphere</td>\n",
       "      <td>74</td>\n",
       "      <td>2016-04-27 03:00:00</td>\n",
       "      <td>0.022473</td>\n",
       "      <td>0.016751</td>\n",
       "      <td>0.009394</td>\n",
       "      <td>0.015313</td>\n",
       "      <td>0.013343</td>\n",
       "      <td>0</td>\n",
       "    </tr>\n",
       "    <tr>\n",
       "      <th>8</th>\n",
       "      <td>8</td>\n",
       "      <td>4foatp</td>\n",
       "      <td>mmeijeri</td>\n",
       "      <td>352</td>\n",
       "      <td>2016-04-21 02:00:00</td>\n",
       "      <td>0.006465</td>\n",
       "      <td>0.024178</td>\n",
       "      <td>0.009585</td>\n",
       "      <td>0.004310</td>\n",
       "      <td>0.003999</td>\n",
       "      <td>0</td>\n",
       "    </tr>\n",
       "    <tr>\n",
       "      <th>9</th>\n",
       "      <td>9</td>\n",
       "      <td>4fa3qf</td>\n",
       "      <td>collegeworker</td>\n",
       "      <td>25</td>\n",
       "      <td>2016-04-18 13:00:00</td>\n",
       "      <td>0.021436</td>\n",
       "      <td>0.009034</td>\n",
       "      <td>0.019839</td>\n",
       "      <td>0.030982</td>\n",
       "      <td>0.024871</td>\n",
       "      <td>0</td>\n",
       "    </tr>\n",
       "  </tbody>\n",
       "</table>\n",
       "</div>"
      ],
      "text/plain": [
       "   Unnamed: 0 post_id    post_author  post_score            timestamp  \\\n",
       "5           5  4dmftl       mkabatek         143  2016-04-07 02:00:00   \n",
       "6           6  4gue65         Galwoa         194  2016-04-29 01:00:00   \n",
       "7           7  4gjthm    Coinosphere          74  2016-04-27 03:00:00   \n",
       "8           8  4foatp       mmeijeri         352  2016-04-21 02:00:00   \n",
       "9           9  4fa3qf  collegeworker          25  2016-04-18 13:00:00   \n",
       "\n",
       "      anger       joy   sadness      fear   disgust max_sentiment  \n",
       "5  0.017638  0.013868  0.017937  0.019820  0.017834             0  \n",
       "6  0.022014  0.011442  0.018262  0.023088  0.022474             0  \n",
       "7  0.022473  0.016751  0.009394  0.015313  0.013343             0  \n",
       "8  0.006465  0.024178  0.009585  0.004310  0.003999             0  \n",
       "9  0.021436  0.009034  0.019839  0.030982  0.024871             0  "
      ]
     },
     "execution_count": 38,
     "metadata": {},
     "output_type": "execute_result"
    }
   ],
   "source": [
    "train_merged_post.loc[:][5:10]"
   ]
  },
  {
   "cell_type": "code",
   "execution_count": 47,
   "metadata": {},
   "outputs": [
    {
     "name": "stdout",
     "output_type": "stream",
     "text": [
      "CPU times: user 54min 43s, sys: 28.1 s, total: 55min 11s\n",
      "Wall time: 1h 1s\n"
     ]
    }
   ],
   "source": [
    "%%time\n",
    "for i in train_merged_post.index.values.tolist():\n",
    "    sentiments = train_merged_post.loc[i][5:10].values.tolist()\n",
    "    #print(max(sentiments))\n",
    "    max_senti_location = sentiments.index(max(sentiments))\n",
    "    #print(max_senti_location)\n",
    "    if max_senti_location == 1:\n",
    "        train_merged_post.loc[i,'max_sentiment'] = 'Positive'\n",
    "    else:\n",
    "        train_merged_post.loc[i,'max_sentiment'] = 'Negative'"
   ]
  },
  {
   "cell_type": "code",
   "execution_count": 48,
   "metadata": {},
   "outputs": [
    {
     "data": {
      "text/html": [
       "<div>\n",
       "<style scoped>\n",
       "    .dataframe tbody tr th:only-of-type {\n",
       "        vertical-align: middle;\n",
       "    }\n",
       "\n",
       "    .dataframe tbody tr th {\n",
       "        vertical-align: top;\n",
       "    }\n",
       "\n",
       "    .dataframe thead th {\n",
       "        text-align: right;\n",
       "    }\n",
       "</style>\n",
       "<table border=\"1\" class=\"dataframe\">\n",
       "  <thead>\n",
       "    <tr style=\"text-align: right;\">\n",
       "      <th></th>\n",
       "      <th>Unnamed: 0</th>\n",
       "      <th>post_id</th>\n",
       "      <th>post_author</th>\n",
       "      <th>post_score</th>\n",
       "      <th>timestamp</th>\n",
       "      <th>anger</th>\n",
       "      <th>joy</th>\n",
       "      <th>sadness</th>\n",
       "      <th>fear</th>\n",
       "      <th>disgust</th>\n",
       "      <th>max_sentiment</th>\n",
       "    </tr>\n",
       "  </thead>\n",
       "  <tbody>\n",
       "    <tr>\n",
       "      <th>0</th>\n",
       "      <td>0</td>\n",
       "      <td>4dvm9x</td>\n",
       "      <td>mrpg_</td>\n",
       "      <td>70</td>\n",
       "      <td>2016-04-08 19:00:00</td>\n",
       "      <td>0.004330</td>\n",
       "      <td>0.025898</td>\n",
       "      <td>0.003477</td>\n",
       "      <td>0.006926</td>\n",
       "      <td>0.004544</td>\n",
       "      <td>Positive</td>\n",
       "    </tr>\n",
       "    <tr>\n",
       "      <th>1</th>\n",
       "      <td>1</td>\n",
       "      <td>4ezxyu</td>\n",
       "      <td>BitScrip</td>\n",
       "      <td>22</td>\n",
       "      <td>2016-04-16 11:00:00</td>\n",
       "      <td>0.017532</td>\n",
       "      <td>0.015844</td>\n",
       "      <td>0.012073</td>\n",
       "      <td>0.018675</td>\n",
       "      <td>0.015834</td>\n",
       "      <td>Negative</td>\n",
       "    </tr>\n",
       "  </tbody>\n",
       "</table>\n",
       "</div>"
      ],
      "text/plain": [
       "   Unnamed: 0 post_id post_author  post_score            timestamp     anger  \\\n",
       "0           0  4dvm9x       mrpg_          70  2016-04-08 19:00:00  0.004330   \n",
       "1           1  4ezxyu    BitScrip          22  2016-04-16 11:00:00  0.017532   \n",
       "\n",
       "        joy   sadness      fear   disgust max_sentiment  \n",
       "0  0.025898  0.003477  0.006926  0.004544      Positive  \n",
       "1  0.015844  0.012073  0.018675  0.015834      Negative  "
      ]
     },
     "execution_count": 48,
     "metadata": {},
     "output_type": "execute_result"
    }
   ],
   "source": [
    "train_merged_post[:2]"
   ]
  },
  {
   "cell_type": "markdown",
   "metadata": {},
   "source": [
    "### find the users with higher score"
   ]
  },
  {
   "cell_type": "code",
   "execution_count": 49,
   "metadata": {},
   "outputs": [
    {
     "name": "stdout",
     "output_type": "stream",
     "text": [
      "[0, 0, 0, 0, 0, 0, 0, 0, 0, 0, 0, 0, 0, 0, 0, 0, 0, 0, 0, 0]\n",
      "27.867733887607535\n"
     ]
    }
   ],
   "source": [
    "score = train_merged_post['post_score'].values.tolist()\n",
    "score.sort(reverse=True)\n",
    "print(score[-20:])\n",
    "#threshold_score = score[int(len(score)/3*2)]\n",
    "threshold_score = train_merged_post['post_score'].values.mean()\n",
    "print(threshold_score)\n",
    "\n",
    "score = train_merged_post['post_score'].values.tolist()\n",
    "high_score = [0 for i in range(len(score))]\n",
    "\n",
    "index_over_threshold = []\n",
    "for i in range(len(score)):\n",
    "    if score[i] > threshold_score:\n",
    "        high_score[i] = 1\n",
    "        index_over_threshold.append(i)\n",
    "    else:\n",
    "        high_score[i] = 0\n",
    "        \n",
    "train_merged_post['high_score'] = high_score\n",
    "#print(index_over_threshold)\n",
    "threshold_score = 28"
   ]
  },
  {
   "cell_type": "markdown",
   "metadata": {},
   "source": [
    "### compare sentiment with actual price changing"
   ]
  },
  {
   "cell_type": "code",
   "execution_count": 50,
   "metadata": {},
   "outputs": [
    {
     "name": "stdout",
     "output_type": "stream",
     "text": [
      "NotAvailable: 0\n",
      "33341\n",
      "CPU times: user 11.4 s, sys: 149 ms, total: 11.5 s\n",
      "Wall time: 11.9 s\n"
     ]
    },
    {
     "name": "stderr",
     "output_type": "stream",
     "text": [
      "/anaconda3/lib/python3.6/site-packages/pandas/core/indexing.py:1472: FutureWarning: \n",
      "Passing list-likes to .loc or [] with any missing label will raise\n",
      "KeyError in the future, you can use .reindex() as an alternative.\n",
      "\n",
      "See the documentation here:\n",
      "https://pandas.pydata.org/pandas-docs/stable/indexing.html#deprecate-loc-reindex-listlike\n",
      "  return self._getitem_tuple(key)\n"
     ]
    }
   ],
   "source": [
    "%%time\n",
    "data_BTUSD = pd.read_csv('/Users/lizhe/Desktop/CMU/ISproject/gemini_BTCUSD_1hr.csv')\n",
    "\n",
    "headers = ['Unix Timestamp','Date','Symbol','Open','High','Low','Close','Volume']\n",
    "data_BTUSD = pd.read_csv('/Users/lizhe/Desktop/CMU/ISproject/gemini_BTCUSD_1hr.csv',names=headers)\n",
    "data_BTUSD=data_BTUSD.drop([0,1,2])\n",
    "\n",
    "# set same form of the time in the dataframes\n",
    "data_BTUSD['Date']=pd.to_datetime(data_BTUSD['Date'])\n",
    "train_merged_post['timestamp']=pd.to_datetime(train_merged_post['timestamp'])\n",
    "train_merged_post['timestamp']=pd.Series(train_merged_post['timestamp']).dt.round(\"H\")\n",
    "\n",
    "\n",
    "price = data_BTUSD['Close'].values.tolist()\n",
    "\n",
    "BT_timestamp = data_BTUSD['Date'].values.tolist()\n",
    "post_timestamp = train_merged_post['timestamp'].values.tolist()\n",
    "\n",
    "# find the actual average bitcoin price change\n",
    "price_actual_trend = []\n",
    "count_valueError = 0\n",
    "for i in index_over_threshold:\n",
    "    sum_price_end = 0\n",
    "    try:\n",
    "        index_begin = BT_timestamp.index(post_timestamp[i])\n",
    "        price_begin = float(price[index_begin])\n",
    "        for j in range(1,52):\n",
    "            index_end = index_begin + j\n",
    "            sum_price_end += float(price[index_end])\n",
    "        price_end = sum_price_end/51\n",
    "        if price_end >= price_begin:\n",
    "            price_actual_trend.append('Positive')\n",
    "        else:\n",
    "            price_actual_trend.append('Negative')\n",
    "    except ValueError as e:\n",
    "        count_valueError += 1\n",
    "        price_actual_trend.append('Unknown')\n",
    "        \n",
    "print('NotAvailable:', price_actual_trend.count('NotAvailable'))\n",
    "print(len(price_actual_trend))\n",
    "\n",
    "merged_post_high_score = train_merged_post.loc[index_over_threshold,:]\n",
    "#print(merged_post_high_score[:3])\n",
    "merged_post_high_score['price_actual_trend'] = price_actual_trend\n",
    "merged_post_high_score[:2]"
   ]
  },
  {
   "cell_type": "code",
   "execution_count": 51,
   "metadata": {},
   "outputs": [
    {
     "name": "stdout",
     "output_type": "stream",
     "text": [
      "[1460142000000000000, 1460804400000000000, 1461549600000000000, 1461092400000000000, 1460217600000000000]\n",
      "[1558915200000000000, 1558911600000000000, 1558908000000000000, 1558904400000000000, 1558900800000000000]\n",
      "3   2019-05-27 00:00:00\n",
      "4   2019-05-26 23:00:00\n",
      "5   2019-05-26 22:00:00\n",
      "Name: Date, dtype: datetime64[ns]\n",
      "0   2016-04-08 19:00:00\n",
      "1   2016-04-16 11:00:00\n",
      "2   2016-04-25 02:00:00\n",
      "Name: timestamp, dtype: datetime64[ns]\n",
      "33341\n"
     ]
    }
   ],
   "source": [
    "post_timestamp = train_merged_post['timestamp'].values.tolist()\n",
    "print(post_timestamp[:5])\n",
    "print(BT_timestamp[:5])\n",
    "print(data_BTUSD['Date'][:3])\n",
    "print(train_merged_post['timestamp'][:3])\n",
    "print(len(index_over_threshold))"
   ]
  },
  {
   "cell_type": "code",
   "execution_count": 60,
   "metadata": {},
   "outputs": [],
   "source": [
    "accurate_prediction = []\n",
    "for i in merged_post_high_score.index.values.tolist():\n",
    "    if merged_post_high_score.loc[i][10] == merged_post_high_score.loc[i][12]:\n",
    "        accurate_prediction.append(1)\n",
    "    else:\n",
    "        accurate_prediction.append(0)\n",
    "\n",
    "merged_post_high_score['accurate_prediction'] = accurate_prediction\n"
   ]
  },
  {
   "cell_type": "code",
   "execution_count": 15,
   "metadata": {},
   "outputs": [],
   "source": [
    "# print(sum(merged_post_high_score['accurate_prediction'].values.tolist()))\n",
    "# print(merged_post_high_score.loc[1][14], merged_post_high_score.loc[1][16])"
   ]
  },
  {
   "cell_type": "markdown",
   "metadata": {},
   "source": [
    "### Calculate the prediction accuracy for users with high scores "
   ]
  },
  {
   "cell_type": "code",
   "execution_count": 64,
   "metadata": {},
   "outputs": [],
   "source": [
    "users = []\n",
    "accuracy = []\n",
    "for i in merged_post_high_score.index.tolist():\n",
    "    name = merged_post_high_score.loc[i]['post_author']\n",
    "    if users.count(name) == 0:\n",
    "        users.append(name)"
   ]
  },
  {
   "cell_type": "code",
   "execution_count": 65,
   "metadata": {},
   "outputs": [
    {
     "name": "stdout",
     "output_type": "stream",
     "text": [
      "15141 33341\n"
     ]
    }
   ],
   "source": [
    "print(len(users),len(merged_post_high_score.index.tolist()))"
   ]
  },
  {
   "cell_type": "code",
   "execution_count": 66,
   "metadata": {},
   "outputs": [
    {
     "name": "stdout",
     "output_type": "stream",
     "text": [
      "[0.0, 0.5454545454545454, 0.4, 0.0, 0.5, 0.4, 0.46153846153846156, 0.0, 0.0, 0.0]\n",
      "CPU times: user 17.7 s, sys: 68.6 ms, total: 17.8 s\n",
      "Wall time: 18.3 s\n"
     ]
    }
   ],
   "source": [
    "%%time\n",
    "all_users = merged_post_high_score['post_author'].values.tolist()\n",
    "merged_post_high_score.index = range(len(all_users))\n",
    "accuracy = []\n",
    "\n",
    "users_predict_once = []\n",
    "predict_more_than_once = []\n",
    "users_60_higher_accuracy = []\n",
    "users_70_higher_accuracy = []\n",
    "users_80_higher_accuracy = []\n",
    "\n",
    "\n",
    "for i in range(len(users)):\n",
    "    user_id = users[i]\n",
    "    total_pred_times = all_users.count(user_id)\n",
    "    if total_pred_times == 1:\n",
    "        #index = all_users.index(user_id)\n",
    "        accurate_pred_times = 0 # merged_post_high_score['accurate_prediction'][index]\n",
    "        users_predict_once.append(user_id)\n",
    "    else:\n",
    "        all_pred = [0 for i in range(total_pred_times)]\n",
    "        index = [0 for i in range(total_pred_times)]\n",
    "        for i in range(total_pred_times):\n",
    "            index[i] = all_users.index(user_id)\n",
    "            all_users[index[i]] = 0\n",
    "            all_pred[i] = merged_post_high_score['accurate_prediction'][index[i]]\n",
    "        accurate_pred_times = sum(all_pred)\n",
    "        predict_more_than_once.append(user_id)\n",
    "        if accurate_pred_times/total_pred_times >= 0.8:\n",
    "            users_60_higher_accuracy.append(user_id)\n",
    "            users_70_higher_accuracy.append(user_id)\n",
    "            users_80_higher_accuracy.append(user_id)\n",
    "        elif accurate_pred_times/total_pred_times >= 0.7:\n",
    "            users_60_higher_accuracy.append(user_id)\n",
    "            users_70_higher_accuracy.append(user_id)\n",
    "        elif accurate_pred_times/total_pred_times >= 0.6:\n",
    "            users_60_higher_accuracy.append(user_id)\n",
    "    pred_accuracy_this_user = accurate_pred_times / total_pred_times\n",
    "    accuracy.append(pred_accuracy_this_user)\n",
    "    \n",
    "print(accuracy[:10])"
   ]
  },
  {
   "cell_type": "code",
   "execution_count": 67,
   "metadata": {},
   "outputs": [
    {
     "name": "stdout",
     "output_type": "stream",
     "text": [
      "count_60_accuracy: 1174 ; % of all high-score users 7.753781124100126 %\n",
      "count_70_accuracy: 788 ; % of all high-score users 5.204411861832112 %\n",
      "count_80_accuracy: 660 ; % of all high-score users 4.359025163463444 %\n",
      "15141\n"
     ]
    }
   ],
   "source": [
    "count_60_accuracy = 0\n",
    "count_70_accuracy = 0\n",
    "count_80_accuracy = 0\n",
    "for i in accuracy:\n",
    "    if i >= 0.8:\n",
    "        count_60_accuracy += 1\n",
    "        count_70_accuracy += 1\n",
    "        count_80_accuracy += 1\n",
    "    elif i >= 0.7:\n",
    "        count_70_accuracy += 1\n",
    "        count_60_accuracy += 1\n",
    "    elif i >= 0.6:\n",
    "        count_60_accuracy += 1\n",
    "        \n",
    "print('count_60_accuracy:',count_60_accuracy, '; % of all high-score users',count_60_accuracy/len(users)*100,'%')\n",
    "print('count_70_accuracy:',count_70_accuracy, '; % of all high-score users',count_70_accuracy/len(users)*100,'%')\n",
    "print('count_80_accuracy:',count_80_accuracy, '; % of all high-score users',count_80_accuracy/len(users)*100,'%')\n",
    "print(len(users))"
   ]
  },
  {
   "cell_type": "markdown",
   "metadata": {},
   "source": [
    "### Add weights to the post whose author has high prediction accuracy"
   ]
  },
  {
   "cell_type": "code",
   "execution_count": 68,
   "metadata": {},
   "outputs": [
    {
     "data": {
      "text/html": [
       "<div>\n",
       "<style scoped>\n",
       "    .dataframe tbody tr th:only-of-type {\n",
       "        vertical-align: middle;\n",
       "    }\n",
       "\n",
       "    .dataframe tbody tr th {\n",
       "        vertical-align: top;\n",
       "    }\n",
       "\n",
       "    .dataframe thead th {\n",
       "        text-align: right;\n",
       "    }\n",
       "</style>\n",
       "<table border=\"1\" class=\"dataframe\">\n",
       "  <thead>\n",
       "    <tr style=\"text-align: right;\">\n",
       "      <th></th>\n",
       "      <th>Unnamed: 0</th>\n",
       "      <th>post_id</th>\n",
       "      <th>post_author</th>\n",
       "      <th>post_score</th>\n",
       "      <th>timestamp</th>\n",
       "      <th>anger</th>\n",
       "      <th>joy</th>\n",
       "      <th>sadness</th>\n",
       "      <th>fear</th>\n",
       "      <th>disgust</th>\n",
       "      <th>max_sentiment</th>\n",
       "      <th>high_score</th>\n",
       "    </tr>\n",
       "  </thead>\n",
       "  <tbody>\n",
       "    <tr>\n",
       "      <th>0</th>\n",
       "      <td>0</td>\n",
       "      <td>4dvm9x</td>\n",
       "      <td>mrpg_</td>\n",
       "      <td>70</td>\n",
       "      <td>2016-04-08 19:00:00</td>\n",
       "      <td>0.004330</td>\n",
       "      <td>0.025898</td>\n",
       "      <td>0.003477</td>\n",
       "      <td>0.006926</td>\n",
       "      <td>0.004544</td>\n",
       "      <td>Positive</td>\n",
       "      <td>1</td>\n",
       "    </tr>\n",
       "    <tr>\n",
       "      <th>1</th>\n",
       "      <td>1</td>\n",
       "      <td>4ezxyu</td>\n",
       "      <td>BitScrip</td>\n",
       "      <td>22</td>\n",
       "      <td>2016-04-16 11:00:00</td>\n",
       "      <td>0.017532</td>\n",
       "      <td>0.015844</td>\n",
       "      <td>0.012073</td>\n",
       "      <td>0.018675</td>\n",
       "      <td>0.015834</td>\n",
       "      <td>Negative</td>\n",
       "      <td>0</td>\n",
       "    </tr>\n",
       "    <tr>\n",
       "      <th>2</th>\n",
       "      <td>2</td>\n",
       "      <td>4g8ssg</td>\n",
       "      <td>gonzobon</td>\n",
       "      <td>5</td>\n",
       "      <td>2016-04-25 02:00:00</td>\n",
       "      <td>0.012624</td>\n",
       "      <td>0.015986</td>\n",
       "      <td>0.017008</td>\n",
       "      <td>0.017521</td>\n",
       "      <td>0.016553</td>\n",
       "      <td>Negative</td>\n",
       "      <td>0</td>\n",
       "    </tr>\n",
       "  </tbody>\n",
       "</table>\n",
       "</div>"
      ],
      "text/plain": [
       "   Unnamed: 0 post_id post_author  post_score           timestamp     anger  \\\n",
       "0           0  4dvm9x       mrpg_          70 2016-04-08 19:00:00  0.004330   \n",
       "1           1  4ezxyu    BitScrip          22 2016-04-16 11:00:00  0.017532   \n",
       "2           2  4g8ssg    gonzobon           5 2016-04-25 02:00:00  0.012624   \n",
       "\n",
       "        joy   sadness      fear   disgust max_sentiment  high_score  \n",
       "0  0.025898  0.003477  0.006926  0.004544      Positive           1  \n",
       "1  0.015844  0.012073  0.018675  0.015834      Negative           0  \n",
       "2  0.015986  0.017008  0.017521  0.016553      Negative           0  "
      ]
     },
     "execution_count": 68,
     "metadata": {},
     "output_type": "execute_result"
    }
   ],
   "source": [
    "train_merged_post[:3]"
   ]
  },
  {
   "cell_type": "markdown",
   "metadata": {},
   "source": [
    "#### Output the influencer names and their weight"
   ]
  },
  {
   "cell_type": "code",
   "execution_count": 69,
   "metadata": {},
   "outputs": [
    {
     "name": "stdout",
     "output_type": "stream",
     "text": [
      "['trymad', 'jameslwalpole', 'kraken_suspended', 'stickac', 'bit79']\n",
      "[2.25, 4.613636363636364, 6.214285714285714, 3.988095238095238, 3.5714285714285716]\n",
      "CPU times: user 1.14 s, sys: 5.9 ms, total: 1.14 s\n",
      "Wall time: 1.17 s\n"
     ]
    }
   ],
   "source": [
    "%%time\n",
    "#### all_users = merged_post_high_score['post_author'].values.tolist()\n",
    "score = merged_post_high_score['post_score'].values.tolist()\n",
    "\n",
    "weight_users_60_higher_accuracy = []\n",
    "\n",
    "conversion_list_weight_calculation = [0 for i in range(len(users_60_higher_accuracy))]\n",
    "conversion_list_users = []\n",
    "conversion_list_pred_times = [0 for i in range(len(users_60_higher_accuracy))]\n",
    "\n",
    "for i in range(len(all_users)):\n",
    "    post_author = merged_post_high_score['post_author'][i]\n",
    "    if post_author in users_60_higher_accuracy:\n",
    "        index = users_60_higher_accuracy.index(post_author)\n",
    "        if post_author not in conversion_list_users:\n",
    "            conversion_list_users.append(post_author)\n",
    "            conversion_list_weight_calculation[index] = score[i]\n",
    "            conversion_list_pred_times[index] = 1\n",
    "        else:\n",
    "            conversion_list_weight_calculation[index] += score[i]\n",
    "            conversion_list_pred_times[index] += 1\n",
    "\n",
    "for i in range(len(users_60_higher_accuracy)):\n",
    "    weight0 = (conversion_list_weight_calculation[i]/conversion_list_pred_times[i])/threshold_score\n",
    "    weight_users_60_higher_accuracy.append(weight0)\n",
    "    \n",
    "print(users_60_higher_accuracy[:5])\n",
    "print(weight_users_60_higher_accuracy[:5])"
   ]
  },
  {
   "cell_type": "code",
   "execution_count": 70,
   "metadata": {},
   "outputs": [],
   "source": [
    "user_and_weight = pd.DataFrame({\n",
    "    'post_author':users_60_higher_accuracy,\n",
    "    'weight':weight_users_60_higher_accuracy\n",
    "})\n",
    "user_and_weight.to_csv('./reddit_influencer_and_weight_new.csv', sep=',', header=True)"
   ]
  },
  {
   "cell_type": "markdown",
   "metadata": {},
   "source": [
    "#### Output all users and their weighted sentiments "
   ]
  },
  {
   "cell_type": "code",
   "execution_count": 77,
   "metadata": {},
   "outputs": [
    {
     "name": "stdout",
     "output_type": "stream",
     "text": [
      "CPU times: user 11.2 s, sys: 28.9 ms, total: 11.2 s\n",
      "Wall time: 11.3 s\n"
     ]
    }
   ],
   "source": [
    "%%time\n",
    "all_users_any_score = merged_post['post_author'].values.tolist()\n",
    "avg_score = train_merged_post.loc[:,'post_score'].mean()\n",
    "weight = []\n",
    "for i in range(len(all_users_any_score)):\n",
    "    author = merged_post['post_author'][i]\n",
    "    if author in users_60_higher_accuracy:\n",
    "        index = users_60_higher_accuracy.index(author)\n",
    "        weight_found = weight_users_60_higher_accuracy[index]\n",
    "        weight.append(weight_found)\n",
    "    else:\n",
    "        weight.append(1)"
   ]
  },
  {
   "cell_type": "code",
   "execution_count": 78,
   "metadata": {},
   "outputs": [
    {
     "name": "stdout",
     "output_type": "stream",
     "text": [
      "389494\n"
     ]
    },
    {
     "data": {
      "text/plain": [
       "(389494, 10)"
      ]
     },
     "execution_count": 78,
     "metadata": {},
     "output_type": "execute_result"
    }
   ],
   "source": [
    "print(len(weight))\n",
    "merged_post.shape"
   ]
  },
  {
   "cell_type": "code",
   "execution_count": 79,
   "metadata": {},
   "outputs": [],
   "source": [
    "merged_post['weight'] = weight"
   ]
  },
  {
   "cell_type": "code",
   "execution_count": 80,
   "metadata": {},
   "outputs": [],
   "source": [
    "weighted_anger = []\n",
    "weighted_joy = []\n",
    "weighted_sadness = []\n",
    "weighted_fear = []\n",
    "weighted_disgust = []\n",
    "\n",
    "for i in range(len(all_users_any_score)):\n",
    "    weighted_anger.append(float(merged_post['anger'][i])*weight[i])\n",
    "    weighted_joy.append(float(merged_post['joy'][i])*weight[i])\n",
    "    weighted_sadness.append(float(merged_post['sadness'][i])*weight[i])\n",
    "    weighted_fear.append(float(merged_post['fear'][i])*weight[i])\n",
    "    weighted_disgust.append(float(merged_post['disgust'][i])*weight[i])\n",
    "    \n",
    "merged_post['weighted_anger'] = weighted_anger\n",
    "merged_post['weighted_joy'] = weighted_joy\n",
    "merged_post['weighted_sadness'] = weighted_sadness\n",
    "merged_post['weighted_fear'] = weighted_fear\n",
    "merged_post['weighted_disgust'] = weighted_disgust"
   ]
  },
  {
   "cell_type": "code",
   "execution_count": 81,
   "metadata": {},
   "outputs": [
    {
     "data": {
      "text/html": [
       "<div>\n",
       "<style scoped>\n",
       "    .dataframe tbody tr th:only-of-type {\n",
       "        vertical-align: middle;\n",
       "    }\n",
       "\n",
       "    .dataframe tbody tr th {\n",
       "        vertical-align: top;\n",
       "    }\n",
       "\n",
       "    .dataframe thead th {\n",
       "        text-align: right;\n",
       "    }\n",
       "</style>\n",
       "<table border=\"1\" class=\"dataframe\">\n",
       "  <thead>\n",
       "    <tr style=\"text-align: right;\">\n",
       "      <th></th>\n",
       "      <th>Unnamed: 0</th>\n",
       "      <th>post_id</th>\n",
       "      <th>post_author</th>\n",
       "      <th>post_score</th>\n",
       "      <th>timestamp</th>\n",
       "      <th>anger</th>\n",
       "      <th>joy</th>\n",
       "      <th>sadness</th>\n",
       "      <th>fear</th>\n",
       "      <th>disgust</th>\n",
       "      <th>weight</th>\n",
       "      <th>weighted_anger</th>\n",
       "      <th>weighted_joy</th>\n",
       "      <th>weighted_sadness</th>\n",
       "      <th>weighted_fear</th>\n",
       "      <th>weighted_disgust</th>\n",
       "    </tr>\n",
       "  </thead>\n",
       "  <tbody>\n",
       "    <tr>\n",
       "      <th>40</th>\n",
       "      <td>40</td>\n",
       "      <td>4dah6e</td>\n",
       "      <td>vampireban</td>\n",
       "      <td>19</td>\n",
       "      <td>2016-04-04 20:00:00</td>\n",
       "      <td>0.013824</td>\n",
       "      <td>0.018217</td>\n",
       "      <td>0.012952</td>\n",
       "      <td>0.013612</td>\n",
       "      <td>0.012844</td>\n",
       "      <td>1.000000</td>\n",
       "      <td>0.013824</td>\n",
       "      <td>0.018217</td>\n",
       "      <td>0.012952</td>\n",
       "      <td>0.013612</td>\n",
       "      <td>0.012844</td>\n",
       "    </tr>\n",
       "    <tr>\n",
       "      <th>41</th>\n",
       "      <td>41</td>\n",
       "      <td>4edmdi</td>\n",
       "      <td>goodbtc</td>\n",
       "      <td>42</td>\n",
       "      <td>2016-04-12 10:00:00</td>\n",
       "      <td>0.017660</td>\n",
       "      <td>0.017136</td>\n",
       "      <td>0.009323</td>\n",
       "      <td>0.017655</td>\n",
       "      <td>0.014996</td>\n",
       "      <td>1.664286</td>\n",
       "      <td>0.029391</td>\n",
       "      <td>0.028519</td>\n",
       "      <td>0.015516</td>\n",
       "      <td>0.029383</td>\n",
       "      <td>0.024957</td>\n",
       "    </tr>\n",
       "    <tr>\n",
       "      <th>42</th>\n",
       "      <td>42</td>\n",
       "      <td>4ctiqf</td>\n",
       "      <td>TLDReynolds</td>\n",
       "      <td>287</td>\n",
       "      <td>2016-04-01 13:00:00</td>\n",
       "      <td>0.022347</td>\n",
       "      <td>0.011083</td>\n",
       "      <td>0.018321</td>\n",
       "      <td>0.024176</td>\n",
       "      <td>0.021911</td>\n",
       "      <td>1.000000</td>\n",
       "      <td>0.022347</td>\n",
       "      <td>0.011083</td>\n",
       "      <td>0.018321</td>\n",
       "      <td>0.024176</td>\n",
       "      <td>0.021911</td>\n",
       "    </tr>\n",
       "  </tbody>\n",
       "</table>\n",
       "</div>"
      ],
      "text/plain": [
       "    Unnamed: 0 post_id  post_author  post_score            timestamp  \\\n",
       "40          40  4dah6e   vampireban          19  2016-04-04 20:00:00   \n",
       "41          41  4edmdi      goodbtc          42  2016-04-12 10:00:00   \n",
       "42          42  4ctiqf  TLDReynolds         287  2016-04-01 13:00:00   \n",
       "\n",
       "       anger       joy   sadness      fear   disgust    weight  \\\n",
       "40  0.013824  0.018217  0.012952  0.013612  0.012844  1.000000   \n",
       "41  0.017660  0.017136  0.009323  0.017655  0.014996  1.664286   \n",
       "42  0.022347  0.011083  0.018321  0.024176  0.021911  1.000000   \n",
       "\n",
       "    weighted_anger  weighted_joy  weighted_sadness  weighted_fear  \\\n",
       "40        0.013824      0.018217          0.012952       0.013612   \n",
       "41        0.029391      0.028519          0.015516       0.029383   \n",
       "42        0.022347      0.011083          0.018321       0.024176   \n",
       "\n",
       "    weighted_disgust  \n",
       "40          0.012844  \n",
       "41          0.024957  \n",
       "42          0.021911  "
      ]
     },
     "execution_count": 81,
     "metadata": {},
     "output_type": "execute_result"
    }
   ],
   "source": [
    "merged_post[40:43]"
   ]
  },
  {
   "cell_type": "code",
   "execution_count": 84,
   "metadata": {},
   "outputs": [],
   "source": [
    "# del merged_post['text']\n",
    "# del merged_post['num_comments']\n",
    "# del merged_post['sentiment_vader']\n"
   ]
  },
  {
   "cell_type": "code",
   "execution_count": 85,
   "metadata": {},
   "outputs": [
    {
     "data": {
      "text/html": [
       "<div>\n",
       "<style scoped>\n",
       "    .dataframe tbody tr th:only-of-type {\n",
       "        vertical-align: middle;\n",
       "    }\n",
       "\n",
       "    .dataframe tbody tr th {\n",
       "        vertical-align: top;\n",
       "    }\n",
       "\n",
       "    .dataframe thead th {\n",
       "        text-align: right;\n",
       "    }\n",
       "</style>\n",
       "<table border=\"1\" class=\"dataframe\">\n",
       "  <thead>\n",
       "    <tr style=\"text-align: right;\">\n",
       "      <th></th>\n",
       "      <th>Unnamed: 0</th>\n",
       "      <th>post_id</th>\n",
       "      <th>post_author</th>\n",
       "      <th>post_score</th>\n",
       "      <th>timestamp</th>\n",
       "      <th>anger</th>\n",
       "      <th>joy</th>\n",
       "      <th>sadness</th>\n",
       "      <th>fear</th>\n",
       "      <th>disgust</th>\n",
       "      <th>weight</th>\n",
       "      <th>weighted_anger</th>\n",
       "      <th>weighted_joy</th>\n",
       "      <th>weighted_sadness</th>\n",
       "      <th>weighted_fear</th>\n",
       "      <th>weighted_disgust</th>\n",
       "    </tr>\n",
       "  </thead>\n",
       "  <tbody>\n",
       "    <tr>\n",
       "      <th>40</th>\n",
       "      <td>40</td>\n",
       "      <td>4dah6e</td>\n",
       "      <td>vampireban</td>\n",
       "      <td>19</td>\n",
       "      <td>2016-04-04 20:00:00</td>\n",
       "      <td>0.013824</td>\n",
       "      <td>0.018217</td>\n",
       "      <td>0.012952</td>\n",
       "      <td>0.013612</td>\n",
       "      <td>0.012844</td>\n",
       "      <td>1.000000</td>\n",
       "      <td>0.013824</td>\n",
       "      <td>0.018217</td>\n",
       "      <td>0.012952</td>\n",
       "      <td>0.013612</td>\n",
       "      <td>0.012844</td>\n",
       "    </tr>\n",
       "    <tr>\n",
       "      <th>41</th>\n",
       "      <td>41</td>\n",
       "      <td>4edmdi</td>\n",
       "      <td>goodbtc</td>\n",
       "      <td>42</td>\n",
       "      <td>2016-04-12 10:00:00</td>\n",
       "      <td>0.017660</td>\n",
       "      <td>0.017136</td>\n",
       "      <td>0.009323</td>\n",
       "      <td>0.017655</td>\n",
       "      <td>0.014996</td>\n",
       "      <td>1.664286</td>\n",
       "      <td>0.029391</td>\n",
       "      <td>0.028519</td>\n",
       "      <td>0.015516</td>\n",
       "      <td>0.029383</td>\n",
       "      <td>0.024957</td>\n",
       "    </tr>\n",
       "    <tr>\n",
       "      <th>42</th>\n",
       "      <td>42</td>\n",
       "      <td>4ctiqf</td>\n",
       "      <td>TLDReynolds</td>\n",
       "      <td>287</td>\n",
       "      <td>2016-04-01 13:00:00</td>\n",
       "      <td>0.022347</td>\n",
       "      <td>0.011083</td>\n",
       "      <td>0.018321</td>\n",
       "      <td>0.024176</td>\n",
       "      <td>0.021911</td>\n",
       "      <td>1.000000</td>\n",
       "      <td>0.022347</td>\n",
       "      <td>0.011083</td>\n",
       "      <td>0.018321</td>\n",
       "      <td>0.024176</td>\n",
       "      <td>0.021911</td>\n",
       "    </tr>\n",
       "  </tbody>\n",
       "</table>\n",
       "</div>"
      ],
      "text/plain": [
       "    Unnamed: 0 post_id  post_author  post_score            timestamp  \\\n",
       "40          40  4dah6e   vampireban          19  2016-04-04 20:00:00   \n",
       "41          41  4edmdi      goodbtc          42  2016-04-12 10:00:00   \n",
       "42          42  4ctiqf  TLDReynolds         287  2016-04-01 13:00:00   \n",
       "\n",
       "       anger       joy   sadness      fear   disgust    weight  \\\n",
       "40  0.013824  0.018217  0.012952  0.013612  0.012844  1.000000   \n",
       "41  0.017660  0.017136  0.009323  0.017655  0.014996  1.664286   \n",
       "42  0.022347  0.011083  0.018321  0.024176  0.021911  1.000000   \n",
       "\n",
       "    weighted_anger  weighted_joy  weighted_sadness  weighted_fear  \\\n",
       "40        0.013824      0.018217          0.012952       0.013612   \n",
       "41        0.029391      0.028519          0.015516       0.029383   \n",
       "42        0.022347      0.011083          0.018321       0.024176   \n",
       "\n",
       "    weighted_disgust  \n",
       "40          0.012844  \n",
       "41          0.024957  \n",
       "42          0.021911  "
      ]
     },
     "execution_count": 85,
     "metadata": {},
     "output_type": "execute_result"
    }
   ],
   "source": [
    "merged_post[40:43]"
   ]
  },
  {
   "cell_type": "code",
   "execution_count": 86,
   "metadata": {},
   "outputs": [],
   "source": [
    "merged_post.to_csv('./reddit_influencer_with_weighted_sentiment_new.csv', sep=',', header=True, index=False)"
   ]
  },
  {
   "cell_type": "code",
   "execution_count": 87,
   "metadata": {},
   "outputs": [
    {
     "data": {
      "text/plain": [
       "(389494, 16)"
      ]
     },
     "execution_count": 87,
     "metadata": {},
     "output_type": "execute_result"
    }
   ],
   "source": [
    "merged_post.shape"
   ]
  },
  {
   "cell_type": "code",
   "execution_count": null,
   "metadata": {},
   "outputs": [],
   "source": []
  }
 ],
 "metadata": {
  "kernelspec": {
   "display_name": "Python 3",
   "language": "python",
   "name": "python3"
  },
  "language_info": {
   "codemirror_mode": {
    "name": "ipython",
    "version": 3
   },
   "file_extension": ".py",
   "mimetype": "text/x-python",
   "name": "python",
   "nbconvert_exporter": "python",
   "pygments_lexer": "ipython3",
   "version": "3.7.3"
  }
 },
 "nbformat": 4,
 "nbformat_minor": 2
}
